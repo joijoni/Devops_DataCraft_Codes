{
 "cells": [
  {
   "cell_type": "code",
   "execution_count": null,
   "metadata": {},
   "outputs": [],
   "source": [
    "# 1. Mean \n",
    "# 2. Median\n",
    "# 3. Mode"
   ]
  },
  {
   "cell_type": "code",
   "execution_count": 5,
   "metadata": {},
   "outputs": [
    {
     "name": "stdout",
     "output_type": "stream",
     "text": [
      "3.5\n"
     ]
    }
   ],
   "source": [
    "# Mean\n",
    "arr = [1, 2, 5, 6]\n",
    "mean_data = sum(arr)/len(arr)\n",
    "print(mean_data)\n"
   ]
  },
  {
   "cell_type": "code",
   "execution_count": 28,
   "metadata": {},
   "outputs": [
    {
     "name": "stdout",
     "output_type": "stream",
     "text": [
      "--------- Index values------------\n",
      "4\n",
      "3\n",
      "Results -----------------\n",
      "9\n",
      "8\n"
     ]
    }
   ],
   "source": [
    "arr = [2, 3, 5, 8, 9, 10, 11, 16]\n",
    "arr.sort()\n",
    "\n",
    "mid_index = int(len(arr)/2)\n",
    "print(\"--------- Index values------------\")\n",
    "print(mid_index)\n",
    "print(mid_index - 1)\n",
    "\n",
    "print(\"Results -----------------\")\n",
    "print(arr[4])\n",
    "print(arr[3])"
   ]
  },
  {
   "cell_type": "code",
   "execution_count": 31,
   "metadata": {},
   "outputs": [
    {
     "name": "stdout",
     "output_type": "stream",
     "text": [
      "This is the array : [3, 5, 8, 9, 10, 11, 16]\n",
      "The count of the array is an odd number\n",
      "--------------------\n",
      "the result of the median value is 9\n"
     ]
    }
   ],
   "source": [
    "#  Median\n",
    "# - Sort (highest to lowest or lowest to highest)\n",
    "# - Get the value in the middle if the count is odd\n",
    "# - Get both values in the middle if the array count is even the divide by 2\n",
    "\n",
    "#  Dry ==== Do not repeat yourself {Concept}\n",
    "\n",
    "arr = [10, 3, 5, 9, 11, 8, 16]\n",
    "arr.sort()\n",
    "mid_point = int(len(arr)/2)\n",
    "mid1 = int(mid_point)\n",
    "mid2 = int(mid1 - 1)\n",
    "\n",
    "print(f\"This is the array : {arr}\")\n",
    "\n",
    "if len(arr)%2 == 0:\n",
    "    print(\"even\")\n",
    "    median_value = sum([arr[mid1], arr[mid2]])/2\n",
    "    print(f\"the result of the median value is {median_value}\")\n",
    "\n",
    "elif len(arr)%2 != 0:\n",
    "    print(\"The count of the array is an odd number\")\n",
    "    print(\"--\" * 10)\n",
    "    median_value = arr[mid1]\n",
    "    print(f\"the result of the median value is {median_value}\")\n",
    "\n",
    "else:\n",
    "    print(\"Cant process the arrays..check array again\")\n",
    "   "
   ]
  },
  {
   "cell_type": "code",
   "execution_count": 42,
   "metadata": {},
   "outputs": [
    {
     "name": "stdout",
     "output_type": "stream",
     "text": [
      "{3: 4, 5: 2, 10: 1, 6: 1, 11: 1}\n",
      "4\n",
      "The modal value is: 3\n"
     ]
    }
   ],
   "source": [
    "#  Create dictionary first \n",
    "\n",
    "arr = [3, 5, 3, 5, 10, 3, 3, 6, 11]\n",
    "\n",
    "dict_data = {}\n",
    "\n",
    "for i in arr:\n",
    "    dict_data[i] = arr.count(i)\n",
    "\n",
    "print(dict_data)\n",
    "\n",
    "arr_max = []\n",
    "for i, j in dict_data.items():\n",
    "    arr_max.append(j)\n",
    "\n",
    "arr_max.sort()\n",
    "max_value = arr_max[-1]\n",
    "print(max_value)\n",
    "\n",
    "for a, b in dict_data.items():\n",
    "    if b == max_value:\n",
    "        print(f\"The modal value is: {a}\")\n",
    "\n",
    "#  Key Value pairs\n"
   ]
  },
  {
   "cell_type": "code",
   "execution_count": 48,
   "metadata": {},
   "outputs": [
    {
     "name": "stdout",
     "output_type": "stream",
     "text": [
      "[8]\n"
     ]
    }
   ],
   "source": [
    "#  Get Modal Values of an array \n",
    "arr = [11, 11, 6, 6, 10, 8, 8, 8]\n",
    "\n",
    "dict_data = {}\n",
    "arr_max = []\n",
    "modal_values = []\n",
    "for i in arr:\n",
    "    dict_data[i] = arr.count(i)\n",
    "for i, j in dict_data.items():\n",
    "    arr_max.append(j)\n",
    "arr_max.sort()\n",
    "max_value = arr_max[-1]\n",
    "for a, b in dict_data.items():\n",
    "    if b == max_value:\n",
    "        modal_values.append(a)\n",
    "\n",
    "print(modal_values)"
   ]
  },
  {
   "cell_type": "code",
   "execution_count": null,
   "metadata": {},
   "outputs": [],
   "source": [
    "#  Assigment \n",
    "\n",
    "#  ALGORITHM -- step step process of solving a probem\n",
    "# ---- BIG O Notation ---- \n",
    "\n",
    "#  arr = [2, 5, 21, 10, 5, 8]\n",
    "\n",
    "# - write a program that can get the min value in the arr\n",
    "# - write a program that can get the maximum value in the arr\n",
    "\n",
    "\n",
    "# dont use : sort()\n",
    "# dont use : min() and max() functions\n",
    "\n",
    "\n",
    "\n",
    "# array_names = [\"beauty\", \"chikodi\", \"mathew\", \"femi\"]\n",
    "#  Get the count of each of the name and save the with count in a dictionary\n"
   ]
  },
  {
   "cell_type": "code",
   "execution_count": 12,
   "metadata": {},
   "outputs": [
    {
     "name": "stdout",
     "output_type": "stream",
     "text": [
      "max number is 21\n",
      " min number is 2\n"
     ]
    }
   ],
   "source": [
    "#------------Assignment-1-----------------------\n",
    "arr = [2, 5, 21, 10, 5, 8]\n",
    "\n",
    "# - write a program that can get the min value in the arr\n",
    "# - write a program that can get the maximum value in the arr\n",
    "        \n",
    "start= arr[0]\n",
    "\n",
    "for i in arr:\n",
    "    if i > start:\n",
    "        start = i\n",
    "print(f\"max number is\", start)\n",
    "for i in arr:\n",
    "    if i < start: \n",
    "        start = i\n",
    "print(f\" min number is\", start)\n",
    "\n"
   ]
  },
  {
   "cell_type": "code",
   "execution_count": 22,
   "metadata": {},
   "outputs": [
    {
     "name": "stdout",
     "output_type": "stream",
     "text": [
      "{'beauty': 6, 'chikodi': 7, 'mathew': 6, 'femi': 4}\n",
      "<class 'dict'>\n"
     ]
    }
   ],
   "source": [
    "#-----------Assignment 2--------------------------\n",
    "array_names = [\"beauty\", \"chikodi\", \"mathew\", \"femi\"]\n",
    "#  Get the count of each of the name and save the name with count in a dictionary\n",
    "arr_count=[]\n",
    "dict_a={}\n",
    "for i in array_names:\n",
    "    num=len(i)\n",
    "    arr_count.append(num)\n",
    "for i in range(0,len(array_names)):\n",
    "    dict_a=dict(zip(array_names,arr_count))\n",
    "print(dict_a)\n",
    "print(type(dict_a))    \n"
   ]
  },
  {
   "cell_type": "code",
   "execution_count": 50,
   "metadata": {},
   "outputs": [],
   "source": [
    "#  Dictionaries ------ \n",
    "\n",
    "names = {\"john\":\"data scientist\", \"lloyd\":\"farmer\", \"clinton\":\"Engineer\", \"pauline\":\"doctor\"}\n",
    "arr = [{\"john\":\"data scientist\", \"lloyd\":\"farmer\", \"clinton\":\"Engineer\", \"pauline\":\"doctor\"}]\n",
    "tup = ({\"john\":\"data scientist\", \"lloyd\":\"farmer\", \"clinton\":\"Engineer\", \"pauline\":\"doctor\"})\n",
    "dict_dict = {\"people\": {\"john\":\"data scientist\", \"lloyd\":\"farmer\", \"clinton\":\"Engineer\", \"pauline\":\"doctor\"}}"
   ]
  },
  {
   "cell_type": "code",
   "execution_count": 59,
   "metadata": {},
   "outputs": [],
   "source": [
    "# print(type(dict_dict))\n",
    "\n",
    "names[\"prince\"] = \"farmer\""
   ]
  },
  {
   "cell_type": "code",
   "execution_count": 60,
   "metadata": {},
   "outputs": [
    {
     "name": "stdout",
     "output_type": "stream",
     "text": [
      "{'john': 'data scientist', 'lloyd': 'farmer', 'clinton': 'Engineer', 'pauline': 'doctor', 'prince': 'farmer'}\n"
     ]
    }
   ],
   "source": [
    "print(names)"
   ]
  },
  {
   "cell_type": "code",
   "execution_count": 61,
   "metadata": {},
   "outputs": [
    {
     "name": "stdout",
     "output_type": "stream",
     "text": [
      "lloyd\n",
      "prince\n"
     ]
    }
   ],
   "source": [
    "for key, values in names.items():\n",
    "    if values == \"farmer\":\n",
    "        print(key)"
   ]
  },
  {
   "cell_type": "code",
   "execution_count": 16,
   "metadata": {},
   "outputs": [
    {
     "name": "stdout",
     "output_type": "stream",
     "text": [
      "{'james': 30, 'caleb': 34, 'tony': 56, 'jennifer': 29}\n"
     ]
    }
   ],
   "source": [
    "names_arr = [\"james\", \"caleb\", \"tony\", \"jennifer\"]\n",
    "age_arr = [30, 34, 56, 29]\n",
    "dct = {}\n",
    "\n",
    "for i in range(0, len(names_arr)):\n",
    "    dct[names_arr[i]] = age_arr[i]\n",
    "\n",
    "print(dct)"
   ]
  },
  {
   "cell_type": "code",
   "execution_count": 70,
   "metadata": {},
   "outputs": [
    {
     "data": {
      "text/html": [
       "<div>\n",
       "<style scoped>\n",
       "    .dataframe tbody tr th:only-of-type {\n",
       "        vertical-align: middle;\n",
       "    }\n",
       "\n",
       "    .dataframe tbody tr th {\n",
       "        vertical-align: top;\n",
       "    }\n",
       "\n",
       "    .dataframe thead th {\n",
       "        text-align: right;\n",
       "    }\n",
       "</style>\n",
       "<table border=\"1\" class=\"dataframe\">\n",
       "  <thead>\n",
       "    <tr style=\"text-align: right;\">\n",
       "      <th></th>\n",
       "      <th>names</th>\n",
       "      <th>score</th>\n",
       "    </tr>\n",
       "  </thead>\n",
       "  <tbody>\n",
       "    <tr>\n",
       "      <th>0</th>\n",
       "      <td>john</td>\n",
       "      <td>10</td>\n",
       "    </tr>\n",
       "    <tr>\n",
       "      <th>1</th>\n",
       "      <td>jude</td>\n",
       "      <td>21</td>\n",
       "    </tr>\n",
       "    <tr>\n",
       "      <th>2</th>\n",
       "      <td>matt</td>\n",
       "      <td>80</td>\n",
       "    </tr>\n",
       "  </tbody>\n",
       "</table>\n",
       "</div>"
      ],
      "text/plain": [
       "  names  score\n",
       "0  john     10\n",
       "1  jude     21\n",
       "2  matt     80"
      ]
     },
     "execution_count": 70,
     "metadata": {},
     "output_type": "execute_result"
    }
   ],
   "source": [
    "import pandas as pd\n",
    "dict_data = {\"names\":[\"john\", \"jude\", \"matt\"], \"score\":[10, 21, 80]}\n",
    "test_df = pd.DataFrame(dict_data)\n",
    "test_df"
   ]
  },
  {
   "cell_type": "code",
   "execution_count": 76,
   "metadata": {},
   "outputs": [
    {
     "data": {
      "text/html": [
       "<div>\n",
       "<style scoped>\n",
       "    .dataframe tbody tr th:only-of-type {\n",
       "        vertical-align: middle;\n",
       "    }\n",
       "\n",
       "    .dataframe tbody tr th {\n",
       "        vertical-align: top;\n",
       "    }\n",
       "\n",
       "    .dataframe thead th {\n",
       "        text-align: right;\n",
       "    }\n",
       "</style>\n",
       "<table border=\"1\" class=\"dataframe\">\n",
       "  <thead>\n",
       "    <tr style=\"text-align: right;\">\n",
       "      <th></th>\n",
       "      <th>names</th>\n",
       "      <th>ages</th>\n",
       "    </tr>\n",
       "  </thead>\n",
       "  <tbody>\n",
       "    <tr>\n",
       "      <th>0</th>\n",
       "      <td>james</td>\n",
       "      <td>30</td>\n",
       "    </tr>\n",
       "    <tr>\n",
       "      <th>1</th>\n",
       "      <td>caleb</td>\n",
       "      <td>34</td>\n",
       "    </tr>\n",
       "    <tr>\n",
       "      <th>2</th>\n",
       "      <td>tony</td>\n",
       "      <td>56</td>\n",
       "    </tr>\n",
       "    <tr>\n",
       "      <th>3</th>\n",
       "      <td>jennifer</td>\n",
       "      <td>29</td>\n",
       "    </tr>\n",
       "  </tbody>\n",
       "</table>\n",
       "</div>"
      ],
      "text/plain": [
       "      names  ages\n",
       "0     james    30\n",
       "1     caleb    34\n",
       "2      tony    56\n",
       "3  jennifer    29"
      ]
     },
     "execution_count": 76,
     "metadata": {},
     "output_type": "execute_result"
    }
   ],
   "source": [
    "import pandas as pd\n",
    "\n",
    "df = pd.DataFrame([dct])\n",
    "\n",
    "df_df = df.T\n",
    "df_df =  df_df.reset_index()\n",
    "df_df.columns = [\"names\", \"ages\"]\n",
    "df_df"
   ]
  }
 ],
 "metadata": {
  "kernelspec": {
   "display_name": ".venv",
   "language": "python",
   "name": "python3"
  },
  "language_info": {
   "codemirror_mode": {
    "name": "ipython",
    "version": 3
   },
   "file_extension": ".py",
   "mimetype": "text/x-python",
   "name": "python",
   "nbconvert_exporter": "python",
   "pygments_lexer": "ipython3",
   "version": "3.12.2"
  }
 },
 "nbformat": 4,
 "nbformat_minor": 2
}
