{
 "cells": [
  {
   "cell_type": "code",
   "execution_count": 1,
   "metadata": {},
   "outputs": [
    {
     "name": "stdout",
     "output_type": "stream",
     "text": [
      "['jameS', 'tamS', 'katiE', 'perry_laV']\n"
     ]
    }
   ],
   "source": [
    "#-------Assignment1---------\n",
    "arr_names = [\"james\", \"tams\", \"katie\", \"perry_lav\"]\n",
    "# [jameS, tamS, katiE, perry_laV]\n",
    "new_arr_names=[]\n",
    "\n",
    "for i in arr_names:\n",
    "    new_names=i[:-1] + i[-1].upper()\n",
    "    new_arr_names.append(new_names)\n",
    "print(new_arr_names)\n",
    "\n",
    "\n",
    "\n",
    "\n",
    "\n",
    "\n",
    "\n"
   ]
  },
  {
   "cell_type": "code",
   "execution_count": 2,
   "metadata": {},
   "outputs": [
    {
     "name": "stdout",
     "output_type": "stream",
     "text": [
      "James\n",
      "Tams\n",
      "Katie\n",
      "Perry_lav\n"
     ]
    }
   ],
   "source": [
    "for i in arr_names:\n",
    "    new_caps = i[0].upper() + i[1:]\n",
    "    print(new_caps)"
   ]
  },
  {
   "cell_type": "code",
   "execution_count": 4,
   "metadata": {},
   "outputs": [
    {
     "name": "stdout",
     "output_type": "stream",
     "text": [
      "[6, 14, 17, 17]\n",
      "54\n"
     ]
    }
   ],
   "source": [
    "#---------Assignment2----------------------\n",
    "arr1 = [1, 4, 6, 9]\n",
    "arr2 = [5, 10, 11, 8]\n",
    "arr3=[]\n",
    "n=0\n",
    "# [6, 14, 17, 17] = total_sum = 34+20 = 54\n",
    "\n",
    "\n",
    "for i,y in zip(arr1,arr2):\n",
    "    num=i+y\n",
    "    arr3.append(num)\n",
    "print(arr3)\n",
    "for x in arr3:\n",
    "    n= x + n\n",
    "print(n)"
   ]
  },
  {
   "cell_type": "code",
   "execution_count": 5,
   "metadata": {},
   "outputs": [
    {
     "name": "stdout",
     "output_type": "stream",
     "text": [
      "54\n"
     ]
    }
   ],
   "source": [
    "#-------Coachs solution -------------------------\n",
    "\n",
    "arr1 = [1, 4, 6, 9]\n",
    "arr2 = [5, 10, 11, 8]\n",
    "\n",
    "if len(arr1) == len(arr2):\n",
    "    sum_count = 0\n",
    "    for j in range(0, len(arr1)):\n",
    "        add_arr = arr1[j] + arr2[j]\n",
    "        sum_count = add_arr + sum_count\n",
    "    print(sum_count)\n",
    "    # print(\"use range\")\n",
    "else:\n",
    "    print(\"cant use range\")\n"
   ]
  },
  {
   "cell_type": "code",
   "execution_count": 6,
   "metadata": {},
   "outputs": [
    {
     "name": "stdout",
     "output_type": "stream",
     "text": [
      "54\n"
     ]
    }
   ],
   "source": [
    "#-------Another way--------------------------------\n",
    "\n",
    "arr1 = [1, 4, 6, 9]\n",
    "arr2 = [5, 10, 11, 8]\n",
    "sum_arr = []\n",
    "\n",
    "if len(arr1) == len(arr2):\n",
    "    for j in range(0, len(arr1)):\n",
    "        add_arr = arr1[j] + arr2[j]\n",
    "        sum_arr.append(add_arr)\n",
    "        \n",
    "    # print(\"use range\")\n",
    "else:\n",
    "    print(\"cant use range\")\n",
    "\n",
    "print(sum(sum_arr))"
   ]
  }
 ],
 "metadata": {
  "kernelspec": {
   "display_name": "venv",
   "language": "python",
   "name": "python3"
  },
  "language_info": {
   "codemirror_mode": {
    "name": "ipython",
    "version": 3
   },
   "file_extension": ".py",
   "mimetype": "text/x-python",
   "name": "python",
   "nbconvert_exporter": "python",
   "pygments_lexer": "ipython3",
   "version": "3.12.2"
  }
 },
 "nbformat": 4,
 "nbformat_minor": 2
}
