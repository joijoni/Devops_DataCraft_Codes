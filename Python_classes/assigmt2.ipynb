{
 "cells": [
  {
   "cell_type": "code",
   "execution_count": 1,
   "metadata": {},
   "outputs": [
    {
     "name": "stdout",
     "output_type": "stream",
     "text": [
      "[5, 5, 4, 4, 7]\n"
     ]
    }
   ],
   "source": [
    "#------------Assignment-1-----------------------\n",
    "arr = [2, 5, 21, 10, 5, 8]\n",
    "\n",
    "# - write a program that can get the min value in the arr\n",
    "# - write a program that can get the maximum value in the arr\n",
    "        \n",
    "start= arr[0]\n",
    "\n",
    "for i in arr:\n",
    "    if i > start:\n",
    "        start = i\n",
    "print(f\"max number is\", start)\n",
    "for i in arr:\n",
    "    if i < start: \n",
    "        start = i\n",
    "print(f\" min number is\", start)\n",
    "\n"
   ]
  },
  {
   "cell_type": "code",
   "execution_count": null,
   "metadata": {},
   "outputs": [],
   "source": [
    "#-----------Assignment 2--------------------------\n",
    "array_names = [\"beauty\", \"chikodi\", \"mathew\", \"femi\"]\n",
    "#  Get the count of each of the name and save the name with count in a dictionary\n",
    "arr_count=[]\n",
    "dict_a={}\n",
    "for i in array_names:\n",
    "    num=len(i)\n",
    "    arr_count.append(num)\n",
    "for i in range(0,len(array_names)):\n",
    "    dict_a=dict(zip(array_names,arr_count))\n",
    "print(dict_a)\n",
    "print(type(dict_a))    "
   ]
  }
 ],
 "metadata": {
  "kernelspec": {
   "display_name": "venv",
   "language": "python",
   "name": "python3"
  },
  "language_info": {
   "codemirror_mode": {
    "name": "ipython",
    "version": 3
   },
   "file_extension": ".py",
   "mimetype": "text/x-python",
   "name": "python",
   "nbconvert_exporter": "python",
   "pygments_lexer": "ipython3",
   "version": "3.12.2"
  }
 },
 "nbformat": 4,
 "nbformat_minor": 2
}
