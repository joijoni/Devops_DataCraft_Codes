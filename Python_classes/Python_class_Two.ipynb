{
 "cells": [
  {
   "cell_type": "code",
   "execution_count": null,
   "metadata": {},
   "outputs": [],
   "source": [
    "# Quadratic Equation = -b +/- (b**2 - 4aC)**(1/2)/2a"
   ]
  },
  {
   "cell_type": "code",
   "execution_count": 7,
   "metadata": {},
   "outputs": [
    {
     "name": "stdout",
     "output_type": "stream",
     "text": [
      "a = 3.0, b =9.0, c =1.0\n",
      "This is a real solution -0.116, -2.884\n"
     ]
    }
   ],
   "source": [
    "a = float(input(\"enter a: \"))\n",
    "b = float(input(\"enter b: \"))\n",
    "c = float(input(\"enter c: \"))\n",
    "\n",
    "print(f\"a = {a}, b ={b}, c ={c}\")\n",
    "\n",
    "b_square = (b**2)\n",
    "num_value = 4*a*c\n",
    "x1 = round((-b + (b_square - num_value)**(1/2))/(2*a), 3)\n",
    "x2 = round((-b - (b_square - num_value)**(1/2))/(2*a), 3)\n",
    "\n",
    "if (b_square - num_value) > 0:\n",
    "    print(f\"This is a real solution {x1}, {x2}\")\n",
    "elif (b_square - num_value) == 0:\n",
    "    print(f\"this will give one real solution {x1}, {x2}\")\n",
    "else:\n",
    "     print(f\"this will give a complex number {x1}, {x2}\")\n",
    "\n",
    "\n",
    "# DRY ---> Dont repeat yourself"
   ]
  },
  {
   "cell_type": "code",
   "execution_count": 23,
   "metadata": {},
   "outputs": [
    {
     "name": "stdout",
     "output_type": "stream",
     "text": [
      "[1, 5, 10]\n",
      "[10, 'james']\n",
      "[1, 5, 10]\n"
     ]
    }
   ],
   "source": [
    "# List and Indexing and Tuples\n",
    "\n",
    "lst_arr = [1, 5, 10, \"james\", \"uber\", False]\n",
    "\n",
    "# print(lst_arr[3])\n",
    "# print(lst_arr[-2])\n",
    "\n",
    "print(lst_arr[0:3])\n",
    "\n",
    "print(lst_arr[2:-2])\n",
    "\n",
    "print(lst_arr[:-3])"
   ]
  },
  {
   "cell_type": "code",
   "execution_count": null,
   "metadata": {},
   "outputs": [],
   "source": [
    "# Index is used to get the position of an element "
   ]
  },
  {
   "cell_type": "code",
   "execution_count": 18,
   "metadata": {},
   "outputs": [
    {
     "name": "stdout",
     "output_type": "stream",
     "text": [
      "['uber', False]\n"
     ]
    }
   ],
   "source": [
    "# Print all elements after james\n",
    "postn = lst_arr.index(\"james\")\n",
    "print(lst_arr[postn+1:])"
   ]
  },
  {
   "cell_type": "code",
   "execution_count": 20,
   "metadata": {},
   "outputs": [
    {
     "name": "stdout",
     "output_type": "stream",
     "text": [
      "[1, 5, 10]\n"
     ]
    }
   ],
   "source": [
    "# print all elements before james\n",
    "postn = lst_arr.index(\"james\")\n",
    "print(lst_arr[:postn])"
   ]
  },
  {
   "cell_type": "code",
   "execution_count": null,
   "metadata": {},
   "outputs": [],
   "source": [
    "#  List methods --->\n",
    "#  index()\n",
    "#  join()\n",
    "#  len()\n",
    "#  append()"
   ]
  },
  {
   "cell_type": "code",
   "execution_count": 6,
   "metadata": {},
   "outputs": [],
   "source": [
    "# len(lst_arr)"
   ]
  },
  {
   "cell_type": "code",
   "execution_count": 37,
   "metadata": {},
   "outputs": [
    {
     "name": "stdout",
     "output_type": "stream",
     "text": [
      "2024/04/07\n"
     ]
    }
   ],
   "source": [
    "\n",
    "date_value = ['2024', '04', '07']\n",
    "join_to_str = \"/\".join(date_value)\n",
    "print(join_to_str)"
   ]
  },
  {
   "cell_type": "code",
   "execution_count": 45,
   "metadata": {},
   "outputs": [
    {
     "name": "stdout",
     "output_type": "stream",
     "text": [
      "1\n",
      "5\n",
      "10\n",
      "james\n",
      "uber\n",
      "False\n"
     ]
    }
   ],
   "source": [
    "lst_arr = [1, 5, 10, \"james\", \"uber\", False]\n",
    "# A forloop list out the content of an array in an iterative format\n",
    "for i in lst_arr:\n",
    "    print(i)"
   ]
  },
  {
   "cell_type": "code",
   "execution_count": 44,
   "metadata": {},
   "outputs": [
    {
     "name": "stdout",
     "output_type": "stream",
     "text": [
      "['james', 'uber', False]\n"
     ]
    }
   ],
   "source": [
    "lst_arr = [1, 5, 10, \"james\", \"uber\", False]\n",
    "\n",
    "number_arr = []\n",
    "\n",
    "for i in lst_arr:\n",
    "    if type(i) == int or type(i) == float:\n",
    "        pass\n",
    "    else:\n",
    "        number_arr.append(i)\n",
    "\n",
    "print(number_arr)"
   ]
  },
  {
   "cell_type": "code",
   "execution_count": 48,
   "metadata": {},
   "outputs": [
    {
     "name": "stdout",
     "output_type": "stream",
     "text": [
      "38\n"
     ]
    }
   ],
   "source": [
    "arr = [10, 12, 16]\n",
    "print(sum(arr))"
   ]
  },
  {
   "cell_type": "code",
   "execution_count": 61,
   "metadata": {},
   "outputs": [
    {
     "name": "stdout",
     "output_type": "stream",
     "text": [
      "[4, 10, 11, 17]\n"
     ]
    }
   ],
   "source": [
    "a = [4, 10, 11]\n",
    "a.append(17)\n",
    "print(a)"
   ]
  },
  {
   "cell_type": "code",
   "execution_count": 76,
   "metadata": {},
   "outputs": [
    {
     "name": "stdout",
     "output_type": "stream",
     "text": [
      "51.0\n"
     ]
    }
   ],
   "source": [
    "arr = [\"5\", 10, 12, \"8\", 16]\n",
    "arr_sum = []\n",
    "for i in arr:\n",
    "    num = float(i)\n",
    "    arr_sum.append(num)\n",
    "\n",
    "print(sum(arr_sum))"
   ]
  },
  {
   "cell_type": "code",
   "execution_count": 62,
   "metadata": {},
   "outputs": [
    {
     "name": "stdout",
     "output_type": "stream",
     "text": [
      "[10, 12, 16]\n"
     ]
    }
   ],
   "source": [
    "arr = [\"5\", 10, 12, \"8\", 16]\n",
    "new_arr = []\n",
    "for i in arr:\n",
    "    if type(i) == int or type(i) == float:\n",
    "        new_arr.append(i)\n",
    "    else:\n",
    "        num = float(i)\n",
    "        new_arr.append(num)\n",
    "\n",
    "\n",
    "print(new_arr)\n",
    "# print(sum(new_arr))"
   ]
  },
  {
   "cell_type": "code",
   "execution_count": 73,
   "metadata": {},
   "outputs": [
    {
     "name": "stdout",
     "output_type": "stream",
     "text": [
      "11-13-apple\n"
     ]
    }
   ],
   "source": [
    "# b = [\"5\", 10, 12, \"8\", 16]\n",
    "# print(b)\n",
    "\n",
    "b = [\"11\", \"13\", \"apple\"]\n",
    "d = \"-\".join(b)\n",
    "print(d)\n",
    "# print(type(d))\n",
    "# print(d)"
   ]
  },
  {
   "cell_type": "code",
   "execution_count": 93,
   "metadata": {},
   "outputs": [
    {
     "name": "stdout",
     "output_type": "stream",
     "text": [
      "[10, 11, 8, 16, 13, 19]\n"
     ]
    }
   ],
   "source": [
    "arr1 = [10, 11, 8]\n",
    "arr2 = [16, 13, 19]\n",
    "\n",
    "d = arr1 + arr2\n",
    "print(d)"
   ]
  },
  {
   "cell_type": "code",
   "execution_count": 111,
   "metadata": {},
   "outputs": [
    {
     "name": "stdout",
     "output_type": "stream",
     "text": [
      "51\n"
     ]
    }
   ],
   "source": [
    "# sum numeric values together\n",
    "\n",
    "arr = [\"5\", 10, 12, \"8\", 16, \"obi\", False]\n",
    "arr_num = []\n",
    "\n",
    "for i in arr:\n",
    "    if type(i) == int or type(i) == float:\n",
    "        arr_num.append(i)\n",
    "\n",
    "    elif type(i) == bool:\n",
    "        pass\n",
    "\n",
    "    \n",
    "    elif type(i) == str:\n",
    "        try:\n",
    "            num = eval(i)\n",
    "            arr_num.append(num)\n",
    "        except Exception as e:\n",
    "            pass\n",
    "\n",
    "print(sum(arr_num))"
   ]
  },
  {
   "cell_type": "code",
   "execution_count": null,
   "metadata": {},
   "outputs": [],
   "source": [
    "# for i in arr:\n",
    "#     if type(i) == int or type(i) == float or \n",
    "\n",
    "arr = [\"james\", \"caleb\", \"matt\", \"tobi\", \"paulina\"]\n",
    "\n",
    "# 1. count each value value in the arr and return an array that has a numerical count of the values\n",
    "# 2.  [5, 5, 4, 4, 2, 7]\n",
    "\n"
   ]
  },
  {
   "cell_type": "code",
   "execution_count": 89,
   "metadata": {},
   "outputs": [
    {
     "name": "stdout",
     "output_type": "stream",
     "text": [
      "5\n",
      "5\n",
      "5\n",
      "5\n",
      "5\n"
     ]
    }
   ],
   "source": [
    "arr = [\"james\", \"caleb\", \"matt\", \"tobi\", \"paulina\"]\n",
    "for i in arr:\n",
    "    arr1=len(arr[0])\n",
    "    print(arr1)"
   ]
  },
  {
   "cell_type": "code",
   "execution_count": 107,
   "metadata": {},
   "outputs": [
    {
     "name": "stdout",
     "output_type": "stream",
     "text": [
      "[5, 5, 4, 4, 7]\n"
     ]
    }
   ],
   "source": [
    "arr = [\"james\", \"caleb\", \"matt\", \"tobi\", \"paulina\"]\n",
    "new_arr = []\n",
    "for i in arr:\n",
    "    arr1=len(arr[0])\n",
    "    new_arr.append(arr1)\n",
    "    break\n",
    "for i in arr:\n",
    "        arr1=len(arr[1])\n",
    "        new_arr.append(arr1)\n",
    "        break\n",
    "for i in arr:\n",
    "        arr1=len(arr[2])\n",
    "        new_arr.append(arr1)\n",
    "        break\n",
    "for i in arr:\n",
    "        arr1=len(arr[3])\n",
    "        new_arr.append(arr1)\n",
    "        break\n",
    "for i in arr:\n",
    "        arr1=len(arr[4])\n",
    "        new_arr.append(arr1)\n",
    "        break\n",
    "print(new_arr)"
   ]
  },
  {
   "cell_type": "code",
   "execution_count": 109,
   "metadata": {},
   "outputs": [
    {
     "ename": "NameError",
     "evalue": "name 'james' is not defined",
     "output_type": "error",
     "traceback": [
      "\u001b[1;31m---------------------------------------------------------------------------\u001b[0m",
      "\u001b[1;31mNameError\u001b[0m                                 Traceback (most recent call last)",
      "Cell \u001b[1;32mIn[109], line 5\u001b[0m\n\u001b[0;32m      3\u001b[0m \u001b[38;5;28;01mfor\u001b[39;00m i \u001b[38;5;129;01min\u001b[39;00m arr:\n\u001b[0;32m      4\u001b[0m     \u001b[38;5;28;01mif\u001b[39;00m \u001b[38;5;28mtype\u001b[39m(i) \u001b[38;5;241m==\u001b[39m \u001b[38;5;28mstr\u001b[39m:\n\u001b[1;32m----> 5\u001b[0m         num \u001b[38;5;241m=\u001b[39m \u001b[38;5;28;43meval\u001b[39;49m\u001b[43m(\u001b[49m\u001b[43mi\u001b[49m\u001b[43m)\u001b[49m\n\u001b[0;32m      6\u001b[0m         arr1\u001b[38;5;241m=\u001b[39m\u001b[38;5;28mlen\u001b[39m(arr[num])\n\u001b[0;32m      7\u001b[0m         new_arr\u001b[38;5;241m.\u001b[39mappend(arr1)\n",
      "File \u001b[1;32m<string>:1\u001b[0m\n",
      "\u001b[1;31mNameError\u001b[0m: name 'james' is not defined"
     ]
    }
   ],
   "source": [
    "arr = [\"james\", \"caleb\", \"matt\", \"tobi\", \"paulina\"]\n",
    "new_arr = []\n",
    "for i in arr:\n",
    "    if type(i) == str:\n",
    "        num = eval(i)\n",
    "        arr1=len(arr[num])\n",
    "        new_arr.append(arr1)\n",
    "        break\n",
    "#for i in arr:\n",
    "       # arr1=len(arr[1])\n",
    "        #new_arr.append(arr1)\n",
    "        #break\n",
    "print(new_arr)"
   ]
  },
  {
   "cell_type": "code",
   "execution_count": 119,
   "metadata": {},
   "outputs": [
    {
     "ename": "TypeError",
     "evalue": "int() argument must be a string, a bytes-like object or a real number, not 'list'",
     "output_type": "error",
     "traceback": [
      "\u001b[1;31m---------------------------------------------------------------------------\u001b[0m",
      "\u001b[1;31mTypeError\u001b[0m                                 Traceback (most recent call last)",
      "Cell \u001b[1;32mIn[119], line 1\u001b[0m\n\u001b[1;32m----> 1\u001b[0m arr \u001b[38;5;241m=\u001b[39m \u001b[38;5;28;43mint\u001b[39;49m\u001b[43m(\u001b[49m\u001b[43m[\u001b[49m\u001b[38;5;124;43m\"\u001b[39;49m\u001b[38;5;124;43mjames\u001b[39;49m\u001b[38;5;124;43m\"\u001b[39;49m\u001b[43m,\u001b[49m\u001b[43m \u001b[49m\u001b[38;5;124;43m\"\u001b[39;49m\u001b[38;5;124;43mcaleb\u001b[39;49m\u001b[38;5;124;43m\"\u001b[39;49m\u001b[43m,\u001b[49m\u001b[43m \u001b[49m\u001b[38;5;124;43m\"\u001b[39;49m\u001b[38;5;124;43mmatt\u001b[39;49m\u001b[38;5;124;43m\"\u001b[39;49m\u001b[43m,\u001b[49m\u001b[43m \u001b[49m\u001b[38;5;124;43m\"\u001b[39;49m\u001b[38;5;124;43mtobi\u001b[39;49m\u001b[38;5;124;43m\"\u001b[39;49m\u001b[43m,\u001b[49m\u001b[43m \u001b[49m\u001b[38;5;124;43m\"\u001b[39;49m\u001b[38;5;124;43mpaulina\u001b[39;49m\u001b[38;5;124;43m\"\u001b[39;49m\u001b[43m]\u001b[49m\u001b[43m)\u001b[49m\n\u001b[0;32m      2\u001b[0m \u001b[38;5;66;03m#arr[3]\u001b[39;00m\n\u001b[0;32m      3\u001b[0m \u001b[38;5;28mprint\u001b[39m (\u001b[38;5;28mlen\u001b[39m(arr[:]))\n",
      "\u001b[1;31mTypeError\u001b[0m: int() argument must be a string, a bytes-like object or a real number, not 'list'"
     ]
    }
   ],
   "source": [
    "arr = int([\"james\", \"caleb\", \"matt\", \"tobi\", \"paulina\"])\n",
    "#arr[3]\n",
    "print (len(arr[:]))"
   ]
  },
  {
   "cell_type": "code",
   "execution_count": 131,
   "metadata": {},
   "outputs": [
    {
     "name": "stdout",
     "output_type": "stream",
     "text": [
      "[5, 5, 4, 4, 7]\n"
     ]
    },
    {
     "ename": "",
     "evalue": "",
     "output_type": "error",
     "traceback": [
      "\u001b[1;31mThe Kernel crashed while executing code in the current cell or a previous cell. \n",
      "\u001b[1;31mPlease review the code in the cell(s) to identify a possible cause of the failure. \n",
      "\u001b[1;31mClick <a href='https://aka.ms/vscodeJupyterKernelCrash'>here</a> for more info. \n",
      "\u001b[1;31mView Jupyter <a href='command:jupyter.viewOutput'>log</a> for further details."
     ]
    }
   ],
   "source": [
    "arr = [\"james\", \"caleb\", \"matt\", \"tobi\", \"paulina\"]\n",
    "count2=  []\n",
    "for i in arr:\n",
    "        go=len(i)\n",
    "        count2.append(go)\n",
    "print(count2)"
   ]
  },
  {
   "cell_type": "code",
   "execution_count": 128,
   "metadata": {},
   "outputs": [
    {
     "name": "stdout",
     "output_type": "stream",
     "text": [
      "5\n",
      "5\n",
      "5\n"
     ]
    }
   ],
   "source": [
    "# Assignment -------\n",
    "arr = [\"james\", \"caleb\", \"matt\", \"tobi\", \"paulina\"]\n",
    "x = 0\n",
    "#arr_count=[]\n",
    "for i in arr:  \n",
    "        if i == 0:  \n",
    "            name_count=len(arr[0])\n",
    "            #arr_count.append(name_count)\n",
    "        break\n",
    "print(name_count)\n",
    "for i in arr:\n",
    "        if i == 1:\n",
    "            name_count=len(arr[2])\n",
    "        break\n",
    "print(name_count)\n",
    "for i in arr:\n",
    "        if i == 2:\n",
    "            name_count=len(arr[3])\n",
    "        break\n",
    "print(name_count)\n",
    "\n",
    "\n"
   ]
  },
  {
   "cell_type": "code",
   "execution_count": 49,
   "metadata": {},
   "outputs": [
    {
     "ename": "TypeError",
     "evalue": "float() argument must be a string or a real number, not 'list'",
     "output_type": "error",
     "traceback": [
      "\u001b[1;31m---------------------------------------------------------------------------\u001b[0m",
      "\u001b[1;31mTypeError\u001b[0m                                 Traceback (most recent call last)",
      "Cell \u001b[1;32mIn[49], line 2\u001b[0m\n\u001b[0;32m      1\u001b[0m \u001b[38;5;66;03m# Assignment -------\u001b[39;00m\n\u001b[1;32m----> 2\u001b[0m arr \u001b[38;5;241m=\u001b[39m\u001b[38;5;28;43mfloat\u001b[39;49m\u001b[43m(\u001b[49m\u001b[43m \u001b[49m\u001b[43m[\u001b[49m\u001b[38;5;124;43m\"\u001b[39;49m\u001b[38;5;124;43mjames\u001b[39;49m\u001b[38;5;124;43m\"\u001b[39;49m\u001b[43m,\u001b[49m\u001b[43m \u001b[49m\u001b[38;5;124;43m\"\u001b[39;49m\u001b[38;5;124;43mcaleb\u001b[39;49m\u001b[38;5;124;43m\"\u001b[39;49m\u001b[43m,\u001b[49m\u001b[43m \u001b[49m\u001b[38;5;124;43m\"\u001b[39;49m\u001b[38;5;124;43mmatt\u001b[39;49m\u001b[38;5;124;43m\"\u001b[39;49m\u001b[43m,\u001b[49m\u001b[43m \u001b[49m\u001b[38;5;124;43m\"\u001b[39;49m\u001b[38;5;124;43mtobi\u001b[39;49m\u001b[38;5;124;43m\"\u001b[39;49m\u001b[43m,\u001b[49m\u001b[43m \u001b[49m\u001b[38;5;124;43m\"\u001b[39;49m\u001b[38;5;124;43mpaulina\u001b[39;49m\u001b[38;5;124;43m\"\u001b[39;49m\u001b[43m]\u001b[49m\u001b[43m)\u001b[49m\n\u001b[0;32m      3\u001b[0m arr_count\u001b[38;5;241m=\u001b[39m[]\n\u001b[0;32m      4\u001b[0m \u001b[38;5;28;01mfor\u001b[39;00m i \u001b[38;5;129;01min\u001b[39;00m arr: \n",
      "\u001b[1;31mTypeError\u001b[0m: float() argument must be a string or a real number, not 'list'"
     ]
    }
   ],
   "source": [
    "# Assignment -------\n",
    "arr =float( [\"james\", \"caleb\", \"matt\", \"tobi\", \"paulina\"])\n",
    "arr_count=[]\n",
    "for i in arr: \n",
    "    if arr[i] == \"james\":    \n",
    "        name_count=len(arr[0])\n",
    "        arr_count.append(name_count)\n",
    "    elif arr[\"caleb\"]== 1:\n",
    "        name_count+=len(arr[1])\n",
    "        arr_count.append(name_count)\n",
    "    elif i == 2:\n",
    "        name_count=len(arr[2])\n",
    "        arr_count.append(name_count)\n",
    "    elif i == 3:\n",
    "        name_count=len(arr[3])\n",
    "        arr_count.append(name_count)\n",
    "    elif i == 4:\n",
    "        name_count=len(arr[4])\n",
    "        arr_count.append(name_count)\n",
    "        \n",
    "    \n",
    "print(arr_count)"
   ]
  },
  {
   "cell_type": "code",
   "execution_count": 110,
   "metadata": {},
   "outputs": [
    {
     "name": "stdout",
     "output_type": "stream",
     "text": [
      "51\n"
     ]
    }
   ],
   "source": [
    "# print(5+10+12+ 8+ 16)"
   ]
  },
  {
   "cell_type": "code",
   "execution_count": 107,
   "metadata": {},
   "outputs": [
    {
     "name": "stdout",
     "output_type": "stream",
     "text": [
      "<class 'bool'>\n"
     ]
    }
   ],
   "source": [
    "num = \"False\"\n",
    "new_num = eval(num)\n",
    "print(type(new_num))"
   ]
  },
  {
   "cell_type": "code",
   "execution_count": 77,
   "metadata": {},
   "outputs": [],
   "source": [
    "# import datetime\n",
    "\n",
    "\n",
    "# time_value = str(datetime.datetime.now())\n",
    "# arr = time_value.split()\n",
    "# print(arr[0].split(\"-\"))\n",
    "# # print(type(time_value))"
   ]
  },
  {
   "cell_type": "code",
   "execution_count": 83,
   "metadata": {},
   "outputs": [
    {
     "name": "stdout",
     "output_type": "stream",
     "text": [
      "51.0\n"
     ]
    }
   ],
   "source": [
    "# pi*(r**2)\n",
    "# radius = 50\n",
    "# radius_circle = round(math.pi * (radius**2), 3)\n",
    "# radius_circle\n",
    "\n",
    "\n",
    "# def sum_arr(arr):\n",
    "#     new_arr = []\n",
    "#     for i in arr:\n",
    "#         if type(i) == int or type(i) == float:\n",
    "#             new_arr.append(i)\n",
    "#         else:\n",
    "#             num = float(i)\n",
    "#             new_arr.append(num)\n",
    "#     return sum(new_arr)\n",
    "\n",
    "\n",
    "# arr = [\"5\", 10, 12, \"8\", 16]\n",
    "# print(sum_arr(arr))"
   ]
  },
  {
   "cell_type": "code",
   "execution_count": 87,
   "metadata": {},
   "outputs": [
    {
     "name": "stdout",
     "output_type": "stream",
     "text": [
      "without in built function: 47\n",
      "with inbuilt function 47\n"
     ]
    }
   ],
   "source": [
    "arr = [6, 10, 20, 11]\n",
    "\n",
    "x = 0\n",
    "for i in arr:\n",
    "    x = i + x\n",
    "\n",
    "print(f\"without in built function: {x}\")\n",
    "print(f\"with inbuilt function {sum(arr)}\")"
   ]
  },
  {
   "cell_type": "code",
   "execution_count": 90,
   "metadata": {},
   "outputs": [
    {
     "name": "stdout",
     "output_type": "stream",
     "text": [
      "47\n"
     ]
    }
   ],
   "source": [
    "# counter = 0\n",
    "# for i in arr:\n",
    "#     # print(i)\n",
    "#     counter = i + counter\n",
    "# print(counter)"
   ]
  }
 ],
 "metadata": {
  "kernelspec": {
   "display_name": ".venv",
   "language": "python",
   "name": "python3"
  },
  "language_info": {
   "codemirror_mode": {
    "name": "ipython",
    "version": 3
   },
   "file_extension": ".py",
   "mimetype": "text/x-python",
   "name": "python",
   "nbconvert_exporter": "python",
   "pygments_lexer": "ipython3",
   "version": "3.12.2"
  }
 },
 "nbformat": 4,
 "nbformat_minor": 2
}
