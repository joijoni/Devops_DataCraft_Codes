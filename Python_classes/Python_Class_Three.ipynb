{
 "cells": [
  {
   "cell_type": "code",
   "execution_count": 1,
   "metadata": {},
   "outputs": [
    {
     "name": "stdout",
     "output_type": "stream",
     "text": [
      "['james', 'caleb', 'matt', 'tobi', 'paulina']\n"
     ]
    }
   ],
   "source": [
    "arr = [\"james\", \"caleb\", \"matt\", \"tobi\", \"paulina\"]\n",
    "# print(arr)"
   ]
  },
  {
   "cell_type": "code",
   "execution_count": 4,
   "metadata": {},
   "outputs": [
    {
     "name": "stdout",
     "output_type": "stream",
     "text": [
      "['james', 'caleb', 'matt', 'tobi', 'paulina']\n",
      "[5, 5, 4, 4, 7]\n"
     ]
    }
   ],
   "source": [
    "counts = []\n",
    "\n",
    "for i in arr:\n",
    "    counter = len(i)\n",
    "    counts.append(counter)\n",
    "\n",
    "print(arr)\n",
    "print(counts)"
   ]
  },
  {
   "cell_type": "code",
   "execution_count": 28,
   "metadata": {},
   "outputs": [
    {
     "name": "stdout",
     "output_type": "stream",
     "text": [
      "['peter', 'johnson', 'simi', 'peter']\n"
     ]
    }
   ],
   "source": [
    "#  List and Tuples\n",
    "\n",
    "lstr = [\"abigail\", \"johnson\", \"simi\", \"abigail\"]\n",
    "lstr[0] = \"peter\"\n",
    "lstr[-1] = \"peter\"\n",
    "print(lstr)"
   ]
  },
  {
   "cell_type": "code",
   "execution_count": null,
   "metadata": {},
   "outputs": [],
   "source": [
    "# Tuples do not support item/element assignmnet \n",
    "# But lists do ....."
   ]
  },
  {
   "cell_type": "code",
   "execution_count": 32,
   "metadata": {},
   "outputs": [],
   "source": [
    "lstr = [\"abigail\", \"johnson\", \"abigail\", \"simi\", \"abigail\"]"
   ]
  },
  {
   "cell_type": "code",
   "execution_count": 33,
   "metadata": {},
   "outputs": [
    {
     "name": "stdout",
     "output_type": "stream",
     "text": [
      "0\n"
     ]
    }
   ],
   "source": [
    "a = lstr.index(\"abigail\")\n",
    "print(a)"
   ]
  },
  {
   "cell_type": "code",
   "execution_count": 36,
   "metadata": {},
   "outputs": [
    {
     "name": "stdout",
     "output_type": "stream",
     "text": [
      "(0, 'abigail')\n",
      "(1, 'johnson')\n",
      "(2, 'abigail')\n",
      "(3, 'simi')\n",
      "(4, 'abigail')\n"
     ]
    }
   ],
   "source": [
    "# Enumerate\n",
    "\n",
    "\n",
    "for n in enumerate(lstr):\n",
    "    print(n)"
   ]
  },
  {
   "cell_type": "code",
   "execution_count": 47,
   "metadata": {},
   "outputs": [
    {
     "name": "stdout",
     "output_type": "stream",
     "text": [
      "0 abigail\n",
      "1 johnson\n",
      "2 abigail\n",
      "3 simi\n",
      "4 abigail\n"
     ]
    }
   ],
   "source": [
    "lstr = [\"abigail\", \"johnson\", \"abigail\", \"simi\", \"abigail\"]\n",
    "\n",
    "for a, b in enumerate(lstr):\n",
    "    print(a,b)"
   ]
  },
  {
   "cell_type": "code",
   "execution_count": 39,
   "metadata": {},
   "outputs": [
    {
     "name": "stdout",
     "output_type": "stream",
     "text": [
      "[0, 2, 4]\n"
     ]
    }
   ],
   "source": [
    "list_abg = []\n",
    "for a, b in enumerate(lstr):\n",
    "    if b == \"abigail\":\n",
    "        list_abg.append(a)\n",
    "\n",
    "print(list_abg)"
   ]
  },
  {
   "cell_type": "code",
   "execution_count": 41,
   "metadata": {},
   "outputs": [
    {
     "name": "stdout",
     "output_type": "stream",
     "text": [
      "['Peter', 'johnson', 'Peter', 'simi', 'Peter']\n"
     ]
    }
   ],
   "source": [
    "# Replace Abigail with peter\n",
    "\n",
    "for i in list_abg:\n",
    "    lstr[i] = \"Peter\"\n",
    "print(lstr)"
   ]
  },
  {
   "cell_type": "code",
   "execution_count": 42,
   "metadata": {},
   "outputs": [
    {
     "name": "stdout",
     "output_type": "stream",
     "text": [
      "['Peter', 'johnson', 'Peter', 'simi', 'Peter']\n"
     ]
    }
   ],
   "source": [
    "lstr = [\"abigail\", \"johnson\", \"abigail\", \"simi\", \"abigail\"]\n",
    "list_abg = []\n",
    "for a, b in enumerate(lstr):\n",
    "    if b == \"abigail\":\n",
    "        list_abg.append(a)\n",
    "\n",
    "\n",
    "for i in list_abg:\n",
    "    lstr[i] = \"Peter\"\n",
    "print(lstr)\n",
    "# print(list_abg)"
   ]
  },
  {
   "cell_type": "code",
   "execution_count": 49,
   "metadata": {},
   "outputs": [
    {
     "name": "stdout",
     "output_type": "stream",
     "text": [
      "['Peter', 'johnson', 'Peter', 'simi', 'Peter']\n"
     ]
    }
   ],
   "source": [
    "lstr = [\"abigail\", \"johnson\", \"abigail\", \"simi\", \"abigail\"]\n",
    "for a, b in enumerate(lstr):\n",
    "    if b == \"abigail\":\n",
    "        lstr[a] = \"Peter\"\n",
    "print(lstr)"
   ]
  },
  {
   "cell_type": "code",
   "execution_count": 50,
   "metadata": {},
   "outputs": [
    {
     "name": "stdout",
     "output_type": "stream",
     "text": [
      "these are the names of our future leaders =['tope', 'doyin', 'chioma']\n"
     ]
    }
   ],
   "source": [
    "b = 5\n",
    "a = b\n",
    "c = [\"10\", 6, True]\n",
    "\n",
    "# Container holding a data type...\n",
    "\n",
    "lst = [\"tope\", \"doyin\", \"chioma\"]\n",
    "print(f\"these are the names of our future leaders ={lst}\")"
   ]
  },
  {
   "cell_type": "code",
   "execution_count": 131,
   "metadata": {},
   "outputs": [
    {
     "name": "stdout",
     "output_type": "stream",
     "text": [
      "[5, 7, 4, 6, 5]\n"
     ]
    }
   ],
   "source": [
    "# tupl = (1, 5, 10)\n",
    "# tupl[0]\n",
    "\n",
    "test_list = [\"peter\", \"paulina\", \"maxy\", \"mattiz\", \"gomez\"]\n",
    "counts_arr = []\n",
    "for i in test_list:\n",
    "    counts = len(i)\n",
    "    counts_arr.append(counts)\n",
    "print(counts_arr)"
   ]
  },
  {
   "cell_type": "code",
   "execution_count": 117,
   "metadata": {},
   "outputs": [
    {
     "name": "stdout",
     "output_type": "stream",
     "text": [
      "['peter', 'paulina', 'maxy', 'mattiz', 'gomez']\n",
      "[5, 7, 4, 6, 5]\n"
     ]
    }
   ],
   "source": [
    "print(test_list)\n",
    "print(counts_arr)"
   ]
  },
  {
   "cell_type": "code",
   "execution_count": 125,
   "metadata": {},
   "outputs": [
    {
     "data": {
      "text/plain": [
       "{'peter': 5, 'paulina': 7, 'maxy': 4, 'mattiz': 6, 'gomez': 5}"
      ]
     },
     "execution_count": 125,
     "metadata": {},
     "output_type": "execute_result"
    }
   ],
   "source": [
    "dict_data = dict(zip(test_list, counts_arr))\n",
    "dict_data"
   ]
  },
  {
   "cell_type": "code",
   "execution_count": null,
   "metadata": {},
   "outputs": [
    {
     "data": {
      "text/plain": [
       "[('maxy', 4), ('peter', 5), ('gomez', 5), ('mattiz', 6), ('paulina', 7)]"
      ]
     },
     "execution_count": 133,
     "metadata": {},
     "output_type": "execute_result"
    }
   ],
   "source": [
    "#  Sorting WHEN WE GET TO dICTIONARY mANIPULATIONS.......\n",
    "\n",
    "# sort_list = sorted(dict_data.items(), key=lambda x:x[1])\n",
    "# sort_list"
   ]
  },
  {
   "cell_type": "code",
   "execution_count": null,
   "metadata": {},
   "outputs": [],
   "source": [
    "#  --------  "
   ]
  },
  {
   "cell_type": "code",
   "execution_count": 1,
   "metadata": {},
   "outputs": [
    {
     "name": "stdout",
     "output_type": "stream",
     "text": [
      "peter 7\n",
      "paulina 6\n",
      "maxy 5\n",
      "mattiz 5\n",
      "gomez 4\n"
     ]
    }
   ],
   "source": [
    "test_list = [\"peter\", \"paulina\", \"maxy\", \"mattiz\", \"gomez\"]\n",
    "counts_arr = []\n",
    "for i in test_list:\n",
    "    counts = len(i)\n",
    "    counts_arr.append(counts)\n",
    "\n",
    "counts_arr.sort()\n",
    "counts_arr.reverse()\n",
    "\n",
    "for n in range(0, len(test_list)):\n",
    "    print(test_list[n], counts_arr[n])\n",
    "# print(counts_arr)"
   ]
  },
  {
   "cell_type": "code",
   "execution_count": 1,
   "metadata": {},
   "outputs": [
    {
     "name": "stdout",
     "output_type": "stream",
     "text": [
      "10\n",
      "20\n",
      "22\n",
      "16\n"
     ]
    }
   ],
   "source": [
    "arr1 = [1,4,6,9]\n",
    "arr2 = [5,10,11,8]\n",
    "arr3 = []\n",
    "\n",
    "for i in arr1, x in arr2:\n",
    "    if i == x:\n",
    "            #sum = i + x\n",
    "            #arr3.append((sum))\n",
    "            print(i + x)\n"
   ]
  },
  {
   "cell_type": "code",
   "execution_count": 1,
   "metadata": {},
   "outputs": [
    {
     "name": "stdout",
     "output_type": "stream",
     "text": [
      "{'iya': 'joy', 'ofor': 'mary', 'okoro': 'dave', 'john': 'moses'}\n"
     ]
    }
   ],
   "source": [
    "#-----------Assignment----------\n",
    "first_name= [\"joy\",\"mary\",\"dave\",\"moses\"]\n",
    "sur_name=[\"iya\",\"ofor\",\"okoro\",\"john\"]\n",
    "\n",
    "#for i in  first_name:\n",
    "full_name= dict( zip(sur_name, first_name))\n",
    "print(full_name)"
   ]
  },
  {
   "cell_type": "code",
   "execution_count": 75,
   "metadata": {},
   "outputs": [],
   "source": [
    "for i in range(0, len(test_list)):\n",
    "    if counts_arr[i] == len(test_list[i]):\n",
    "        print(counts_arr[i],test_list[i])"
   ]
  },
  {
   "cell_type": "code",
   "execution_count": 12,
   "metadata": {},
   "outputs": [],
   "source": [
    "import pandas as pd"
   ]
  },
  {
   "cell_type": "code",
   "execution_count": 54,
   "metadata": {},
   "outputs": [
    {
     "data": {
      "text/html": [
       "<div>\n",
       "<style scoped>\n",
       "    .dataframe tbody tr th:only-of-type {\n",
       "        vertical-align: middle;\n",
       "    }\n",
       "\n",
       "    .dataframe tbody tr th {\n",
       "        vertical-align: top;\n",
       "    }\n",
       "\n",
       "    .dataframe thead th {\n",
       "        text-align: right;\n",
       "    }\n",
       "</style>\n",
       "<table border=\"1\" class=\"dataframe\">\n",
       "  <thead>\n",
       "    <tr style=\"text-align: right;\">\n",
       "      <th></th>\n",
       "      <th>names</th>\n",
       "      <th>name_counts</th>\n",
       "    </tr>\n",
       "  </thead>\n",
       "  <tbody>\n",
       "    <tr>\n",
       "      <th>0</th>\n",
       "      <td>james</td>\n",
       "      <td>5</td>\n",
       "    </tr>\n",
       "    <tr>\n",
       "      <th>1</th>\n",
       "      <td>caleb</td>\n",
       "      <td>5</td>\n",
       "    </tr>\n",
       "    <tr>\n",
       "      <th>2</th>\n",
       "      <td>matt</td>\n",
       "      <td>4</td>\n",
       "    </tr>\n",
       "    <tr>\n",
       "      <th>3</th>\n",
       "      <td>tobi</td>\n",
       "      <td>4</td>\n",
       "    </tr>\n",
       "    <tr>\n",
       "      <th>4</th>\n",
       "      <td>paulina</td>\n",
       "      <td>7</td>\n",
       "    </tr>\n",
       "  </tbody>\n",
       "</table>\n",
       "</div>"
      ],
      "text/plain": [
       "     names name_counts\n",
       "0    james           5\n",
       "1    caleb           5\n",
       "2     matt           4\n",
       "3     tobi           4\n",
       "4  paulina           7"
      ]
     },
     "execution_count": 54,
     "metadata": {},
     "output_type": "execute_result"
    }
   ],
   "source": [
    "df = pd.DataFrame([arr, counts])\n",
    "new_df = df.T\n",
    "new_df.columns = [\"names\", \"name_counts\"]\n",
    "new_df"
   ]
  },
  {
   "cell_type": "code",
   "execution_count": 61,
   "metadata": {},
   "outputs": [
    {
     "data": {
      "text/html": [
       "<div>\n",
       "<style scoped>\n",
       "    .dataframe tbody tr th:only-of-type {\n",
       "        vertical-align: middle;\n",
       "    }\n",
       "\n",
       "    .dataframe tbody tr th {\n",
       "        vertical-align: top;\n",
       "    }\n",
       "\n",
       "    .dataframe thead th {\n",
       "        text-align: right;\n",
       "    }\n",
       "</style>\n",
       "<table border=\"1\" class=\"dataframe\">\n",
       "  <thead>\n",
       "    <tr style=\"text-align: right;\">\n",
       "      <th></th>\n",
       "      <th>names</th>\n",
       "      <th>name_counts</th>\n",
       "    </tr>\n",
       "  </thead>\n",
       "  <tbody>\n",
       "    <tr>\n",
       "      <th>4</th>\n",
       "      <td>paulina</td>\n",
       "      <td>7</td>\n",
       "    </tr>\n",
       "    <tr>\n",
       "      <th>0</th>\n",
       "      <td>james</td>\n",
       "      <td>5</td>\n",
       "    </tr>\n",
       "    <tr>\n",
       "      <th>1</th>\n",
       "      <td>caleb</td>\n",
       "      <td>5</td>\n",
       "    </tr>\n",
       "    <tr>\n",
       "      <th>2</th>\n",
       "      <td>matt</td>\n",
       "      <td>4</td>\n",
       "    </tr>\n",
       "    <tr>\n",
       "      <th>3</th>\n",
       "      <td>tobi</td>\n",
       "      <td>4</td>\n",
       "    </tr>\n",
       "  </tbody>\n",
       "</table>\n",
       "</div>"
      ],
      "text/plain": [
       "     names name_counts\n",
       "4  paulina           7\n",
       "0    james           5\n",
       "1    caleb           5\n",
       "2     matt           4\n",
       "3     tobi           4"
      ]
     },
     "execution_count": 61,
     "metadata": {},
     "output_type": "execute_result"
    }
   ],
   "source": [
    "new_df.sort_values(by=\"name_counts\", ascending=False)"
   ]
  },
  {
   "cell_type": "code",
   "execution_count": 10,
   "metadata": {},
   "outputs": [],
   "source": [
    "import pandas as pd"
   ]
  },
  {
   "cell_type": "code",
   "execution_count": 20,
   "metadata": {},
   "outputs": [
    {
     "name": "stdout",
     "output_type": "stream",
     "text": [
      "{'james': 5, 'caleb': 5, 'matt': 4, 'tobi': 4, 'paulina': 7}\n"
     ]
    },
    {
     "data": {
      "text/html": [
       "<div>\n",
       "<style scoped>\n",
       "    .dataframe tbody tr th:only-of-type {\n",
       "        vertical-align: middle;\n",
       "    }\n",
       "\n",
       "    .dataframe tbody tr th {\n",
       "        vertical-align: top;\n",
       "    }\n",
       "\n",
       "    .dataframe thead th {\n",
       "        text-align: right;\n",
       "    }\n",
       "</style>\n",
       "<table border=\"1\" class=\"dataframe\">\n",
       "  <thead>\n",
       "    <tr style=\"text-align: right;\">\n",
       "      <th></th>\n",
       "      <th>names</th>\n",
       "      <th>names_count</th>\n",
       "    </tr>\n",
       "  </thead>\n",
       "  <tbody>\n",
       "    <tr>\n",
       "      <th>0</th>\n",
       "      <td>james</td>\n",
       "      <td>5</td>\n",
       "    </tr>\n",
       "    <tr>\n",
       "      <th>1</th>\n",
       "      <td>caleb</td>\n",
       "      <td>5</td>\n",
       "    </tr>\n",
       "    <tr>\n",
       "      <th>2</th>\n",
       "      <td>matt</td>\n",
       "      <td>4</td>\n",
       "    </tr>\n",
       "    <tr>\n",
       "      <th>3</th>\n",
       "      <td>tobi</td>\n",
       "      <td>4</td>\n",
       "    </tr>\n",
       "    <tr>\n",
       "      <th>4</th>\n",
       "      <td>paulina</td>\n",
       "      <td>7</td>\n",
       "    </tr>\n",
       "  </tbody>\n",
       "</table>\n",
       "</div>"
      ],
      "text/plain": [
       "     names  names_count\n",
       "0    james            5\n",
       "1    caleb            5\n",
       "2     matt            4\n",
       "3     tobi            4\n",
       "4  paulina            7"
      ]
     },
     "execution_count": 20,
     "metadata": {},
     "output_type": "execute_result"
    }
   ],
   "source": [
    "new_arr = dict(zip(arr, counts))\n",
    "print(new_arr)\n",
    "\n",
    "\n",
    "df2 = pd.DataFrame([new_arr])\n",
    "df2 = df2.T\n",
    "df3 = df2.reset_index()\n",
    "df3.columns = [\"names\", \"names_count\"]\n",
    "df3"
   ]
  }
 ],
 "metadata": {
  "kernelspec": {
   "display_name": ".venv",
   "language": "python",
   "name": "python3"
  },
  "language_info": {
   "codemirror_mode": {
    "name": "ipython",
    "version": 3
   },
   "file_extension": ".py",
   "mimetype": "text/x-python",
   "name": "python",
   "nbconvert_exporter": "python",
   "pygments_lexer": "ipython3",
   "version": "3.12.2"
  }
 },
 "nbformat": 4,
 "nbformat_minor": 2
}
