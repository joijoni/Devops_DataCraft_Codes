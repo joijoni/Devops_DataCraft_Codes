{
 "cells": [
  {
   "cell_type": "code",
   "execution_count": null,
   "metadata": {},
   "outputs": [],
   "source": [
    "# -- Leet Code \n",
    "# -- Hacker rank"
   ]
  },
  {
   "cell_type": "code",
   "execution_count": 6,
   "metadata": {},
   "outputs": [
    {
     "name": "stdout",
     "output_type": "stream",
     "text": [
      "115\n"
     ]
    }
   ],
   "source": [
    "\"\"\"\n",
    "-- Stage ONE\n",
    "\n",
    "- Variables\n",
    "- List and Indexing and Tuples\n",
    "- Strings and string Manipulations\n",
    "- Conditionals\n",
    "- For Loops and While loops\n",
    "- Functions (User Defined Functions)\n",
    "- Dictionary, Jsons\n",
    "\n",
    "Erro Hnadling---\n",
    "\n",
    "Stag TWO and Three\n",
    "\n",
    "-- Data Libraries\n",
    "- Pandas and Numpy (Polars)\n",
    "\n",
    "Development side of Things(Pipelines)\n",
    "- Integartaing python and Databases (Postgresql)\n",
    "- Interacting with SQL in a python pipeline\n",
    "- Building secure and easy apis \n",
    "- Consuming Third Party data APIs (Yahoo Finance, Bloomberg) : API documentations and API testing\n",
    "\"\"\"\n"
   ]
  },
  {
   "cell_type": "code",
   "execution_count": null,
   "metadata": {},
   "outputs": [],
   "source": [
    "#  VARIABLES\n",
    "\n",
    "\"Containers that hold data types\"\n",
    "\n",
    "\"\"\" data types are how programming languages process information for our computers\n",
    "\n",
    "Interprter: convert the language to 0's and 1's\"\"\"\n",
    "\n",
    "\n",
    "# strings ==> words : \"567.9\", \"james is 4 years old\", \"true\"\n",
    "# booleans == > True, False\n",
    "# numericals data types (integers and floats) ==> 12, 10.5, 30, 00.2\n",
    "\n",
    "# datetime\n",
    "# object"
   ]
  },
  {
   "cell_type": "code",
   "execution_count": 13,
   "metadata": {},
   "outputs": [
    {
     "name": "stdout",
     "output_type": "stream",
     "text": [
      "james is 10 years old\n",
      "<class 'str'>\n"
     ]
    }
   ],
   "source": [
    "print(\"james is 10 years old\")\n",
    "print(type(\"james is 10 years old\"))"
   ]
  },
  {
   "cell_type": "code",
   "execution_count": 17,
   "metadata": {},
   "outputs": [
    {
     "name": "stdout",
     "output_type": "stream",
     "text": [
      "true\n",
      "<class 'str'>\n"
     ]
    }
   ],
   "source": [
    "print(\"true\")\n",
    "print(type(\"true\"))"
   ]
  },
  {
   "cell_type": "code",
   "execution_count": 14,
   "metadata": {},
   "outputs": [
    {
     "name": "stdout",
     "output_type": "stream",
     "text": [
      "james is 10 years old\n"
     ]
    }
   ],
   "source": [
    "x = \"james is 10 years old\"\n",
    "print(x)"
   ]
  },
  {
   "cell_type": "code",
   "execution_count": 18,
   "metadata": {},
   "outputs": [
    {
     "name": "stdout",
     "output_type": "stream",
     "text": [
      "chioma is 31 years old\n"
     ]
    }
   ],
   "source": [
    "year_of_birth = 1993\n",
    "name = \"chioma\"\n",
    "calc = 2024 - year_of_birth\n",
    "print(f\"{name} is {calc} years old\")"
   ]
  },
  {
   "cell_type": "code",
   "execution_count": 44,
   "metadata": {},
   "outputs": [
    {
     "name": "stdout",
     "output_type": "stream",
     "text": [
      "131.0\n"
     ]
    }
   ],
   "source": [
    "# formular one = c = (f - 32) * (5/9)\n",
    "# formular two = f = (c * 9/5) + 32\n",
    "\n",
    "temp_input_cel = 55\n",
    "\n",
    "fahr = (temp_input_cel * 9/5) + 32\n",
    "print(fahr)\n"
   ]
  },
  {
   "cell_type": "code",
   "execution_count": 45,
   "metadata": {},
   "outputs": [
    {
     "name": "stdout",
     "output_type": "stream",
     "text": [
      "55.0\n"
     ]
    }
   ],
   "source": [
    "temp_input_fahr = 131\n",
    "cel = (temp_input_fahr - 32) * (5/9)\n",
    "print(cel)"
   ]
  },
  {
   "cell_type": "code",
   "execution_count": null,
   "metadata": {},
   "outputs": [],
   "source": [
    "temp_value = float(input(\"enter your temperature values: \"))\n",
    "temp_type = str(input(\"enter temperature type: \"))\n",
    "    \n",
    "if temp_type == \"c\":\n",
    "    fahr = (temp_value * 9/5) + 32\n",
    "    print(fahr)\n",
    "\n",
    "elif temp_type == \"f\":\n",
    "    cel = (temp_value - 32) * (5/9)\n",
    "    print(cel)\n",
    "\n",
    "else:\n",
    "    print(\"Enter properly or condition not available!!!\")"
   ]
  },
  {
   "cell_type": "code",
   "execution_count": 57,
   "metadata": {},
   "outputs": [
    {
     "name": "stdout",
     "output_type": "stream",
     "text": [
      "JACKSON\n"
     ]
    }
   ],
   "source": [
    "name = \"Jackson\"\n",
    "print(name.upper())"
   ]
  },
  {
   "cell_type": "code",
   "execution_count": 60,
   "metadata": {},
   "outputs": [
    {
     "name": "stdout",
     "output_type": "stream",
     "text": [
      "The tempearture from fahrenheit to celcuis is 19.444\n"
     ]
    }
   ],
   "source": [
    "#  Using Try and Except to handle Errors ----- \n",
    "\n",
    "try:\n",
    "    temp_value = float(input(\"enter your temperature values: \"))\n",
    "    temp_type = str(input(\"enter temperature type: \").lower())\n",
    "\n",
    "    if temp_type == \"c\":\n",
    "        fahr = (temp_value * 9/5) + 32\n",
    "        print(f\"the temperature from celcuis to fahr is {round(fahr, 3)} degree Fahrenheit\")\n",
    "\n",
    "    elif temp_type == \"f\":\n",
    "        cel = (temp_value - 32) * (5/9)\n",
    "        print(f\"The tempearture from fahrenheit to celcuis is {round(cel, 3)}\")\n",
    "\n",
    "    else:\n",
    "        print(\"Enter properly or condition not available!!!\")\n",
    "\n",
    "except Exception as e:\n",
    "    print(\"An error showed up based on inputs\")\n"
   ]
  },
  {
   "cell_type": "code",
   "execution_count": null,
   "metadata": {},
   "outputs": [],
   "source": [
    "# Pratice Excercise\n",
    "#  Quadratic Equation = -b +/- (b**2 - 4aC)**(1/2)/2a"
   ]
  },
  {
   "cell_type": "code",
   "execution_count": 41,
   "metadata": {},
   "outputs": [],
   "source": [
    "# import datetime\n",
    "\n",
    "# date_value = str(datetime.datetime.now())\n",
    "# date_split = float(date_value.split(\" \")[0].split(\"-\")[0])\n",
    "# calc = date_split - year_of_birth\n",
    "# print(f\"{name} is {calc} years old\")\n"
   ]
  },
  {
   "cell_type": "code",
   "execution_count": 40,
   "metadata": {},
   "outputs": [],
   "source": [
    "# import datetime\n",
    "\n",
    "# date_value = str(datetime.datetime.now())\n",
    "\n",
    "# date_split = date_value.split(\" \")\n",
    "# only_date = date_split[0]\n",
    "# current_year = only_date.split(\"-\")[0]\n",
    "# str_curr = float(current_year)\n",
    "# calc = str_curr - year_of_birth\n",
    "# print(calc)\n"
   ]
  }
 ],
 "metadata": {
  "kernelspec": {
   "display_name": ".venv",
   "language": "python",
   "name": "python3"
  },
  "language_info": {
   "codemirror_mode": {
    "name": "ipython",
    "version": 3
   },
   "file_extension": ".py",
   "mimetype": "text/x-python",
   "name": "python",
   "nbconvert_exporter": "python",
   "pygments_lexer": "ipython3",
   "version": "3.12.2"
  }
 },
 "nbformat": 4,
 "nbformat_minor": 2
}
