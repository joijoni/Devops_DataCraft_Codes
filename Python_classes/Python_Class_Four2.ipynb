{
 "cells": [
  {
   "cell_type": "code",
   "execution_count": 111,
   "metadata": {},
   "outputs": [],
   "source": [
    "#  Arrange the names in the array in descending order..."
   ]
  },
  {
   "cell_type": "code",
   "execution_count": 112,
   "metadata": {},
   "outputs": [
    {
     "name": "stdout",
     "output_type": "stream",
     "text": [
      "['peter', 'paulina', 'maxy', 'mattiz', 'gomez']\n"
     ]
    }
   ],
   "source": [
    "test_list = [\"peter\", \"paulina\", \"maxy\", \"mattiz\", \"gomez\"]\n",
    "print(test_list)"
   ]
  },
  {
   "cell_type": "code",
   "execution_count": 101,
   "metadata": {},
   "outputs": [],
   "source": [
    "# what you need to know about append\n",
    "# - Append only takes one data type at a time"
   ]
  },
  {
   "cell_type": "code",
   "execution_count": 113,
   "metadata": {},
   "outputs": [
    {
     "name": "stdout",
     "output_type": "stream",
     "text": [
      "[5, 7, 4, 6, 5]\n"
     ]
    }
   ],
   "source": [
    "counts = []\n",
    "for n in test_list:\n",
    "    counts.append(len(n))\n",
    "\n",
    "print(counts)"
   ]
  },
  {
   "cell_type": "code",
   "execution_count": 114,
   "metadata": {},
   "outputs": [
    {
     "name": "stdout",
     "output_type": "stream",
     "text": [
      "['peter', 'paulina', 'maxy', 'mattiz', 'gomez']\n",
      "[5, 7, 4, 6, 5]\n"
     ]
    }
   ],
   "source": [
    "print(test_list)\n",
    "print(counts)"
   ]
  },
  {
   "cell_type": "code",
   "execution_count": 104,
   "metadata": {},
   "outputs": [],
   "source": [
    "# Anothers sets of list methods\n",
    "# sort()\n",
    "# reverse()"
   ]
  },
  {
   "cell_type": "code",
   "execution_count": 115,
   "metadata": {},
   "outputs": [
    {
     "name": "stdout",
     "output_type": "stream",
     "text": [
      "[7, 6, 5, 5, 4]\n"
     ]
    }
   ],
   "source": [
    "#  Sort and Reverse values in the order you want\n",
    "\n",
    "counts.sort()\n",
    "counts.reverse()\n",
    "print(counts)"
   ]
  },
  {
   "cell_type": "code",
   "execution_count": 129,
   "metadata": {},
   "outputs": [],
   "source": [
    "# for j in counts:\n",
    "#     print(j)"
   ]
  },
  {
   "cell_type": "code",
   "execution_count": 126,
   "metadata": {},
   "outputs": [
    {
     "name": "stdout",
     "output_type": "stream",
     "text": [
      "['peter', 'paulina', 'maxy', 'mattiz', 'gomez']\n"
     ]
    }
   ],
   "source": [
    "print(test_list)"
   ]
  },
  {
   "cell_type": "code",
   "execution_count": 121,
   "metadata": {},
   "outputs": [
    {
     "name": "stdout",
     "output_type": "stream",
     "text": [
      "paulina 7\n",
      "mattiz 6\n",
      "peter 5\n",
      "gomez 5\n",
      "peter 5\n",
      "gomez 5\n",
      "maxy 4\n"
     ]
    }
   ],
   "source": [
    "# Comapre values to see the results \n",
    "\n",
    "for j in counts:\n",
    "    for n in test_list:\n",
    "        if len(n) == j:\n",
    "            print(n, j)"
   ]
  },
  {
   "cell_type": "code",
   "execution_count": 122,
   "metadata": {},
   "outputs": [],
   "source": [
    "#  Append results into a tuple\n",
    "arr = []\n",
    "for j in counts:\n",
    "    for n in test_list:\n",
    "        if len(n) == j:\n",
    "            arr.append((n, j))"
   ]
  },
  {
   "cell_type": "code",
   "execution_count": 123,
   "metadata": {},
   "outputs": [
    {
     "name": "stdout",
     "output_type": "stream",
     "text": [
      "[('paulina', 7), ('mattiz', 6), ('peter', 5), ('gomez', 5), ('peter', 5), ('gomez', 5), ('maxy', 4)]\n"
     ]
    }
   ],
   "source": [
    "print(arr)"
   ]
  },
  {
   "cell_type": "code",
   "execution_count": 125,
   "metadata": {},
   "outputs": [
    {
     "data": {
      "text/html": [
       "<div>\n",
       "<style scoped>\n",
       "    .dataframe tbody tr th:only-of-type {\n",
       "        vertical-align: middle;\n",
       "    }\n",
       "\n",
       "    .dataframe tbody tr th {\n",
       "        vertical-align: top;\n",
       "    }\n",
       "\n",
       "    .dataframe thead th {\n",
       "        text-align: right;\n",
       "    }\n",
       "</style>\n",
       "<table border=\"1\" class=\"dataframe\">\n",
       "  <thead>\n",
       "    <tr style=\"text-align: right;\">\n",
       "      <th></th>\n",
       "      <th>name</th>\n",
       "      <th>names_count</th>\n",
       "    </tr>\n",
       "  </thead>\n",
       "  <tbody>\n",
       "    <tr>\n",
       "      <th>0</th>\n",
       "      <td>paulina</td>\n",
       "      <td>7</td>\n",
       "    </tr>\n",
       "    <tr>\n",
       "      <th>1</th>\n",
       "      <td>mattiz</td>\n",
       "      <td>6</td>\n",
       "    </tr>\n",
       "    <tr>\n",
       "      <th>2</th>\n",
       "      <td>peter</td>\n",
       "      <td>5</td>\n",
       "    </tr>\n",
       "    <tr>\n",
       "      <th>3</th>\n",
       "      <td>gomez</td>\n",
       "      <td>5</td>\n",
       "    </tr>\n",
       "    <tr>\n",
       "      <th>6</th>\n",
       "      <td>maxy</td>\n",
       "      <td>4</td>\n",
       "    </tr>\n",
       "  </tbody>\n",
       "</table>\n",
       "</div>"
      ],
      "text/plain": [
       "      name  names_count\n",
       "0  paulina            7\n",
       "1   mattiz            6\n",
       "2    peter            5\n",
       "3    gomez            5\n",
       "6     maxy            4"
      ]
     },
     "execution_count": 125,
     "metadata": {},
     "output_type": "execute_result"
    }
   ],
   "source": [
    "#  Create dataFrame and drop duplicates...\n",
    "import pandas as pd\n",
    "\n",
    "df = pd.DataFrame(arr, columns=[\"name\", \"names_count\"])\n",
    "df = df.drop_duplicates()\n",
    "df"
   ]
  },
  {
   "cell_type": "code",
   "execution_count": null,
   "metadata": {},
   "outputs": [],
   "source": [
    "#  Explanation"
   ]
  },
  {
   "cell_type": "code",
   "execution_count": null,
   "metadata": {},
   "outputs": [],
   "source": [
    "#  Forget about dictionary for now....\n",
    "# dict_data = {}\n",
    "# for j in counts:\n",
    "#     for n in test_list:\n",
    "#         if len(n) == j:\n",
    "#             dict_data[n] = j\n",
    "# print(dict_data)"
   ]
  },
  {
   "cell_type": "code",
   "execution_count": null,
   "metadata": {},
   "outputs": [],
   "source": [
    "test_list = [\"peter\", \"paulina\", \"maxy\", \"mattiz\", \"gomez\", \"be\", \"bensolalison\", \"chukwuemeka\"]"
   ]
  },
  {
   "cell_type": "code",
   "execution_count": null,
   "metadata": {},
   "outputs": [
    {
     "name": "stdout",
     "output_type": "stream",
     "text": [
      "[('be', 2), ('maxy', 4), ('peter', 5), ('gomez', 5), ('peter', 5), ('gomez', 5), ('mattiz', 6), ('paulina', 7), ('chukwuemeka', 11), ('bensolalison', 12)]\n"
     ]
    }
   ],
   "source": [
    "counts = []\n",
    "arr = []\n",
    "\n",
    "\n",
    "for n in test_list:\n",
    "    counts.append(len(n))\n",
    "counts.sort()\n",
    "# counts.reverse()\n",
    "for j in counts:\n",
    "    for n in test_list:\n",
    "        if len(n) == j:\n",
    "            arr.append((n, j))\n",
    "\n",
    "print(arr)"
   ]
  },
  {
   "cell_type": "code",
   "execution_count": null,
   "metadata": {},
   "outputs": [
    {
     "name": "stdout",
     "output_type": "stream",
     "text": [
      "2 7\n",
      "2 9\n",
      "2 11\n",
      "2 1\n",
      "2 9\n",
      "2 10\n",
      "3 7\n",
      "3 9\n",
      "3 11\n",
      "3 1\n",
      "3 9\n",
      "3 10\n",
      "5 7\n",
      "5 9\n",
      "5 11\n",
      "5 1\n",
      "5 9\n",
      "5 10\n",
      "6 7\n",
      "6 9\n",
      "6 11\n",
      "6 1\n",
      "6 9\n",
      "6 10\n"
     ]
    }
   ],
   "source": [
    "#  Basic concept of nested forloops\n",
    "\n",
    "a = [2, 3, 5, 6]\n",
    "b = [7, 9, 11, 1, 9, 10]\n",
    "\n",
    "for i in a:\n",
    "    for n in b:\n",
    "        print(i, n)"
   ]
  },
  {
   "cell_type": "code",
   "execution_count": null,
   "metadata": {},
   "outputs": [
    {
     "name": "stdout",
     "output_type": "stream",
     "text": [
      "[2, 4, 5, 5, 6, 7, 11, 12]\n",
      "['peter', 'paulina', 'maxy', 'mattiz', 'gomez', 'be', 'bensolalison', 'chukwuemeka']\n"
     ]
    }
   ],
   "source": [
    "print(counts)\n",
    "print(test_list)"
   ]
  },
  {
   "cell_type": "code",
   "execution_count": null,
   "metadata": {},
   "outputs": [
    {
     "name": "stdout",
     "output_type": "stream",
     "text": [
      "[('be', 2), ('maxy', 4), ('peter', 5), ('gomez', 5), ('peter', 5), ('gomez', 5), ('mattiz', 6), ('paulina', 7), ('chukwuemeka', 11), ('bensolalison', 12)]\n"
     ]
    }
   ],
   "source": [
    "counts = []\n",
    "arr = []\n",
    "\n",
    "\n",
    "for n in test_list:\n",
    "    counts.append(len(n))\n",
    "counts.sort()\n",
    "# counts.reverse()\n",
    "for j in counts:\n",
    "    for n in test_list:\n",
    "        if len(n) == j:\n",
    "            arr.append((n, j))\n",
    "\n",
    "print(arr)"
   ]
  },
  {
   "cell_type": "code",
   "execution_count": null,
   "metadata": {},
   "outputs": [
    {
     "name": "stdout",
     "output_type": "stream",
     "text": [
      "[4, 5, 5, 6, 7]\n",
      "peter 5\n",
      "peter 5\n",
      "paulina 7\n",
      "maxy 4\n",
      "mattiz 6\n",
      "gomez 5\n",
      "gomez 5\n"
     ]
    }
   ],
   "source": [
    "n_list = [\"peter\", \"paulina\", \"maxy\", \"mattiz\", \"gomez\"]\n",
    "arr_counter = []\n",
    "# ascending order\n",
    "\n",
    "\n",
    "for i in n_list:\n",
    "    arr_counter.append(len(i))\n",
    "\n",
    "arr_counter.sort()\n",
    "print(arr_counter)\n",
    "\n",
    "for a in n_list:\n",
    "    for b in arr_counter:\n",
    "        if len(a) == b:\n",
    "            print(a, b)"
   ]
  },
  {
   "cell_type": "code",
   "execution_count": null,
   "metadata": {},
   "outputs": [],
   "source": [
    "# (y+d+8)(x+7)\n",
    "# y(x+7)+d(x+7)+8(x+7)"
   ]
  },
  {
   "cell_type": "code",
   "execution_count": null,
   "metadata": {},
   "outputs": [],
   "source": [
    "# import pandas as pd\n",
    "\n",
    "# df = pd.DataFrame(arr)\n",
    "# df.columns = [\"name\", \"name_counts\"]\n",
    "# df"
   ]
  },
  {
   "cell_type": "code",
   "execution_count": null,
   "metadata": {},
   "outputs": [],
   "source": [
    "# arr_values\n",
    "\n",
    "# # 2 + [6, 7, 9]\n",
    "# # 7 + [7, 9, 5]\n",
    "# # 10 + [9, 5]\n",
    "# # 2 + [5]\n",
    "\n",
    "\n",
    "# Strings and string Manipulations"
   ]
  },
  {
   "cell_type": "code",
   "execution_count": 133,
   "metadata": {},
   "outputs": [
    {
     "name": "stdout",
     "output_type": "stream",
     "text": [
      "bayo jade\n"
     ]
    }
   ],
   "source": [
    "b = \"jade\"\n",
    "a = \"bayo\"\n",
    "print(a, b)"
   ]
  },
  {
   "cell_type": "code",
   "execution_count": 135,
   "metadata": {},
   "outputs": [
    {
     "data": {
      "text/plain": [
       "'commu'"
      ]
     },
     "execution_count": 135,
     "metadata": {},
     "output_type": "execute_result"
    }
   ],
   "source": [
    "d = \"community\"\n",
    "d[0:5]\n",
    "\n",
    "# - strings can be indexed"
   ]
  },
  {
   "cell_type": "code",
   "execution_count": 148,
   "metadata": {},
   "outputs": [
    {
     "data": {
      "text/plain": [
       "'angine'"
      ]
     },
     "execution_count": 148,
     "metadata": {},
     "output_type": "execute_result"
    }
   ],
   "source": [
    "k = \"tangine\"\n",
    "k[1:]"
   ]
  },
  {
   "cell_type": "code",
   "execution_count": 149,
   "metadata": {},
   "outputs": [
    {
     "name": "stdout",
     "output_type": "stream",
     "text": [
      "0\n"
     ]
    },
    {
     "data": {
      "text/plain": [
       "'mangine'"
      ]
     },
     "execution_count": 149,
     "metadata": {},
     "output_type": "execute_result"
    }
   ],
   "source": [
    "#  Replace t with m\n",
    "k = \"tangine\"\n",
    "index_value = k.index(\"t\")\n",
    "# print(index_value)\n",
    "\n",
    "new_k = \"m\" + k[index_value+1:]\n",
    "new_k"
   ]
  },
  {
   "cell_type": "code",
   "execution_count": 153,
   "metadata": {},
   "outputs": [
    {
     "name": "stdout",
     "output_type": "stream",
     "text": [
      "james\n",
      "James\n"
     ]
    }
   ],
   "source": [
    "arr_names = [\"james\", \"tams\", \"katie\", \"perry_lav\"]\n",
    "ele1 = arr_names[0]\n",
    "print(ele1)\n",
    "new_name = \"J\" + ele1[1:]\n",
    "print(new_name)\n"
   ]
  },
  {
   "cell_type": "code",
   "execution_count": 158,
   "metadata": {},
   "outputs": [
    {
     "name": "stdout",
     "output_type": "stream",
     "text": [
      "James\n",
      "Tams\n",
      "Katie\n",
      "Perry_lav\n"
     ]
    }
   ],
   "source": [
    "for i in arr_names:\n",
    "    new_caps = i[0].upper() + i[1:]\n",
    "    print(new_caps)"
   ]
  },
  {
   "cell_type": "code",
   "execution_count": 166,
   "metadata": {},
   "outputs": [],
   "source": [
    "arr_names = [\"james\", \"tams\", \"katie\", \"perry_lav\"]\n",
    "# [jameS, tamS, katiE, perry_laV]\n",
    "\n",
    "\n",
    "arr1 = [1, 4, 6, 9]\n",
    "arr2 = [5, 10, 11, 8]\n",
    "\n",
    "# [6, 14, 17, 17] = total_sum = 34+20 = 54"
   ]
  },
  {
   "cell_type": "code",
   "execution_count": 172,
   "metadata": {},
   "outputs": [
    {
     "name": "stdout",
     "output_type": "stream",
     "text": [
      "['jameS', 'tamS', 'katiE', 'perry_laV']\n"
     ]
    }
   ],
   "source": [
    "# Solution\n",
    "\n",
    "arr_names = [\"james\", \"tams\", \"katie\", \"perry_lav\"]\n",
    "new_arr = []\n",
    "for name in arr_names:\n",
    "    res = name[:-1] + name[-1].upper()\n",
    "    new_arr.append(res)\n",
    "\n",
    "print(new_arr)\n"
   ]
  },
  {
   "cell_type": "code",
   "execution_count": 178,
   "metadata": {},
   "outputs": [
    {
     "name": "stdout",
     "output_type": "stream",
     "text": [
      "54\n"
     ]
    }
   ],
   "source": [
    "arr1 = [1, 4, 6, 9]\n",
    "arr2 = [5, 10, 11, 8]\n",
    "\n",
    "if len(arr1) == len(arr2):\n",
    "    sum_count = 0\n",
    "    for j in range(0, len(arr1)):\n",
    "        add_arr = arr1[j] + arr2[j]\n",
    "        sum_count = add_arr + sum_count\n",
    "    print(sum_count)\n",
    "    # print(\"use range\")\n",
    "else:\n",
    "    print(\"cant use range\")"
   ]
  },
  {
   "cell_type": "code",
   "execution_count": 180,
   "metadata": {},
   "outputs": [
    {
     "name": "stdout",
     "output_type": "stream",
     "text": [
      "54\n"
     ]
    }
   ],
   "source": [
    "arr1 = [1, 4, 6, 9]\n",
    "arr2 = [5, 10, 11, 8]\n",
    "sum_arr = []\n",
    "\n",
    "if len(arr1) == len(arr2):\n",
    "    for j in range(0, len(arr1)):\n",
    "        add_arr = arr1[j] + arr2[j]\n",
    "        sum_arr.append(add_arr)\n",
    "        \n",
    "    # print(\"use range\")\n",
    "else:\n",
    "    print(\"cant use range\")\n",
    "\n",
    "print(sum(sum_arr))"
   ]
  },
  {
   "cell_type": "code",
   "execution_count": null,
   "metadata": {},
   "outputs": [],
   "source": [
    "# : Hint :\n",
    "n = 0\n",
    "for n in arr:\n",
    "    x = n + x\n",
    "print(n)"
   ]
  },
  {
   "cell_type": "code",
   "execution_count": null,
   "metadata": {},
   "outputs": [],
   "source": [
    "# regex"
   ]
  },
  {
   "cell_type": "code",
   "execution_count": 165,
   "metadata": {},
   "outputs": [
    {
     "name": "stdout",
     "output_type": "stream",
     "text": [
      "['domi', 'kal', 'peter']\n"
     ]
    }
   ],
   "source": [
    "\n",
    "a = \"domi/kal/peter\"\n",
    "l = a.split(\"/\")\n",
    "print(l)"
   ]
  },
  {
   "cell_type": "code",
   "execution_count": 159,
   "metadata": {},
   "outputs": [],
   "source": [
    "# d[0] = \"J\"\n",
    "# print(d)"
   ]
  }
 ],
 "metadata": {
  "kernelspec": {
   "display_name": ".venv",
   "language": "python",
   "name": "python3"
  },
  "language_info": {
   "codemirror_mode": {
    "name": "ipython",
    "version": 3
   },
   "file_extension": ".py",
   "mimetype": "text/x-python",
   "name": "python",
   "nbconvert_exporter": "python",
   "pygments_lexer": "ipython3",
   "version": "3.12.2"
  }
 },
 "nbformat": 4,
 "nbformat_minor": 2
}
