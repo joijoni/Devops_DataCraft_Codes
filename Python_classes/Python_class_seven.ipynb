{
 "cells": [
  {
   "cell_type": "code",
   "execution_count": 26,
   "metadata": {},
   "outputs": [
    {
     "data": {
      "text/plain": [
       "[{'math_score': [80, 55, 67],\n",
       "  'english_score': [66, 97, 69],\n",
       "  'pupil_names': ['james', 'john', 'tobi']}]"
      ]
     },
     "execution_count": 26,
     "metadata": {},
     "output_type": "execute_result"
    }
   ],
   "source": [
    "data_sheet = [{\"math_score\":[80, 55, 67], \"english_score\":[66, 97, 69], \"pupil_names\":[\"james\", \"john\", \"tobi\"]}]\n",
    "data_sheet"
   ]
  },
  {
   "cell_type": "code",
   "execution_count": 27,
   "metadata": {},
   "outputs": [
    {
     "data": {
      "text/plain": [
       "' \\n1. write an algorithm that picks only the score of tobi or his class mates\\n2. get the mean score of the pupils for both subjects\\n\\n'"
      ]
     },
     "execution_count": 27,
     "metadata": {},
     "output_type": "execute_result"
    }
   ],
   "source": [
    "\"\"\" \n",
    "1. write an algorithm that picks only the score of tobi or his class mates\n",
    "2. get the mean score of the pupils for both subjects\n",
    "\n",
    "\"\"\""
   ]
  },
  {
   "cell_type": "code",
   "execution_count": 28,
   "metadata": {},
   "outputs": [
    {
     "name": "stdout",
     "output_type": "stream",
     "text": [
      "[55, 97]\n"
     ]
    }
   ],
   "source": [
    "get_all_arrays = []\n",
    "index_pupil = []\n",
    "arr_data = []\n",
    "\n",
    "name_pupil = \"john\"\n",
    "\n",
    "for n in data_sheet:\n",
    "    for key, values in n.items():\n",
    "        get_all_arrays.append(values)\n",
    "        if key == \"pupil_names\":\n",
    "            index_values = values.index(name_pupil)\n",
    "            index_pupil.append(index_values)\n",
    "\n",
    "index_pupil = index_pupil[0]\n",
    "\n",
    "for i in get_all_arrays:\n",
    "    arr_data.append(i[index_pupil])\n",
    "\n",
    "students_scores = arr_data[:-1]\n",
    "print(students_scores)"
   ]
  },
  {
   "cell_type": "code",
   "execution_count": 29,
   "metadata": {},
   "outputs": [
    {
     "name": "stdout",
     "output_type": "stream",
     "text": [
      "james\n",
      "john\n",
      "tobi\n"
     ]
    }
   ],
   "source": [
    "for i in data_sheet:\n",
    "    for k, v in i.items():\n",
    "        if k == \"pupil_names\":\n",
    "            for names in v:\n",
    "                print(names)\n"
   ]
  },
  {
   "cell_type": "code",
   "execution_count": 30,
   "metadata": {},
   "outputs": [
    {
     "name": "stdout",
     "output_type": "stream",
     "text": [
      "james = 73.0%\n",
      "john = 76.0%\n",
      "tobi = 68.0%\n"
     ]
    }
   ],
   "source": [
    "for i in data_sheet:\n",
    "    for k, v in i.items():\n",
    "        if k == \"pupil_names\":\n",
    "            for names in v:\n",
    "                # print(names)\n",
    "                get_all_arrays = []\n",
    "                index_pupil = []\n",
    "                arr_data = []\n",
    "\n",
    "                for n in data_sheet:\n",
    "                    for key, values in n.items():\n",
    "                        get_all_arrays.append(values)\n",
    "                        if key == \"pupil_names\":\n",
    "                            index_values = values.index(names)\n",
    "                            index_pupil.append(index_values)\n",
    "\n",
    "                index_pupil = index_pupil[0]\n",
    "\n",
    "                for i in get_all_arrays:\n",
    "                    arr_data.append(i[index_pupil])\n",
    "\n",
    "                students_scores = arr_data[:-1]\n",
    "                mean_score = sum(students_scores)/len(students_scores)\n",
    "                print(f\"{names} = {mean_score}%\")"
   ]
  },
  {
   "cell_type": "code",
   "execution_count": 31,
   "metadata": {},
   "outputs": [
    {
     "name": "stdout",
     "output_type": "stream",
     "text": [
      "[['a', 'b', 'c'], ['d', 'k', 'l'], ['j', 'b', 'l']]\n"
     ]
    }
   ],
   "source": [
    "#  Matrixes\n",
    "\n",
    "# list inside another list\n",
    "\n",
    "a = [[\"a\", \"b\", \"c\"], [\"d\", \"k\", \"l\"], [\"j\", \"b\", \"l\"]]\n",
    "print(a)"
   ]
  },
  {
   "cell_type": "code",
   "execution_count": 32,
   "metadata": {},
   "outputs": [
    {
     "name": "stdout",
     "output_type": "stream",
     "text": [
      "['a', 'b', 'c']\n",
      "['d', 'k', 'l']\n"
     ]
    }
   ],
   "source": [
    "print(a[0])\n",
    "print(a[1])"
   ]
  },
  {
   "cell_type": "code",
   "execution_count": 33,
   "metadata": {},
   "outputs": [
    {
     "name": "stdout",
     "output_type": "stream",
     "text": [
      "c\n",
      "l\n",
      "l\n"
     ]
    }
   ],
   "source": [
    "for i in range(0, len(a[0])):\n",
    "    print(a[i][-1])"
   ]
  },
  {
   "cell_type": "code",
   "execution_count": 34,
   "metadata": {},
   "outputs": [
    {
     "data": {
      "text/plain": [
       "' \\n-- Re-USABLE block of codes\\n\\nsort()\\nmax()\\nmin()\\nreverse()    methods are Functions that are inbuilt\\n\\nuser defined Functions are functions that are designed byb the users to solve problems.... '"
      ]
     },
     "execution_count": 34,
     "metadata": {},
     "output_type": "execute_result"
    }
   ],
   "source": [
    "#  Functions ---->\n",
    "\n",
    "# wrappers()\n",
    "\"\"\" \n",
    "-- Re-USABLE block of codes\n",
    "\n",
    "sort()\n",
    "max()\n",
    "min()\n",
    "reverse()    methods are Functions that are inbuilt\n",
    "\n",
    "user defined Functions are functions that are designed byb the users to solve problems.... \"\"\"\n",
    "\n",
    "\n",
    "# f(x) = 2*x + 5"
   ]
  },
  {
   "cell_type": "code",
   "execution_count": 35,
   "metadata": {},
   "outputs": [
    {
     "name": "stdout",
     "output_type": "stream",
     "text": [
      "my name is Divine, i am 12 years old \n"
     ]
    }
   ],
   "source": [
    "def nameFunc(name, age):\n",
    "    string_data = f\"\"\"my name is {name}, i am {age} years old \"\"\"\n",
    "    return string_data\n",
    "\n",
    "data = nameFunc(\"Divine\",12)\n",
    "print(data)"
   ]
  },
  {
   "cell_type": "code",
   "execution_count": 36,
   "metadata": {},
   "outputs": [
    {
     "data": {
      "text/plain": [
       "'\\nWrite a function that can calculate the mean\\nWrite a function that can calculate the range\\n--- Get the difference between the mean and range -----\\n'"
      ]
     },
     "execution_count": 36,
     "metadata": {},
     "output_type": "execute_result"
    }
   ],
   "source": [
    "arr = [1, 10, 20, 11, 8]\n",
    "\"\"\"\n",
    "Write a function that can calculate the mean\n",
    "Write a function that can calculate the range\n",
    "--- Get the difference between the mean and range -----\n",
    "\"\"\""
   ]
  },
  {
   "cell_type": "code",
   "execution_count": 37,
   "metadata": {},
   "outputs": [
    {
     "name": "stdout",
     "output_type": "stream",
     "text": [
      "10.0\n"
     ]
    }
   ],
   "source": [
    "def meanFunc(arr):\n",
    "    sum_count = 0\n",
    "    for i in arr:\n",
    "        sum_count = i + sum_count\n",
    "    mean_data = sum_count/len(arr)\n",
    "    return mean_data\n",
    "\n",
    "a = meanFunc(arr)\n",
    "print(a)\n"
   ]
  },
  {
   "cell_type": "code",
   "execution_count": 38,
   "metadata": {},
   "outputs": [
    {
     "name": "stdout",
     "output_type": "stream",
     "text": [
      "20\n"
     ]
    }
   ],
   "source": [
    "start = arr[0]\n",
    "for n in arr:\n",
    "    if n > start:\n",
    "        start = n\n",
    "print(start)"
   ]
  },
  {
   "cell_type": "code",
   "execution_count": 39,
   "metadata": {},
   "outputs": [
    {
     "data": {
      "text/plain": [
       "19"
      ]
     },
     "execution_count": 39,
     "metadata": {},
     "output_type": "execute_result"
    }
   ],
   "source": [
    "def MaxFunc(arr):\n",
    "    start = arr[0]\n",
    "    for n in arr:\n",
    "        if n > start:\n",
    "            start = n\n",
    "    return start\n",
    "\n",
    "def MinFunc(arr):\n",
    "    start = arr[0]\n",
    "    for n in arr:\n",
    "        if n < start:\n",
    "            start = n\n",
    "    return start\n",
    "\n",
    "max_val = MaxFunc(arr)\n",
    "min_val = MinFunc(arr)\n",
    "# print(max_val)\n",
    "# print(min_val)\n",
    "\n",
    "Range = max_val - min_val\n",
    "Range\n"
   ]
  },
  {
   "cell_type": "code",
   "execution_count": 40,
   "metadata": {},
   "outputs": [
    {
     "name": "stdout",
     "output_type": "stream",
     "text": [
      "19\n"
     ]
    }
   ],
   "source": [
    "start_max = arr[0]\n",
    "start_min = arr[0]\n",
    "for n in arr:\n",
    "    if n > start_max:\n",
    "        start_max = n\n",
    "for n in arr:\n",
    "    if n < start_min:\n",
    "        start_min = n\n",
    "rangeValues = start_max - start_min\n",
    "print(rangeValues)\n"
   ]
  },
  {
   "cell_type": "code",
   "execution_count": 41,
   "metadata": {},
   "outputs": [
    {
     "data": {
      "text/plain": [
       "19"
      ]
     },
     "execution_count": 41,
     "metadata": {},
     "output_type": "execute_result"
    }
   ],
   "source": [
    "def rangeFunc(arr):\n",
    "    start_max = arr[0]\n",
    "    start_min = arr[0]\n",
    "    for n in arr:\n",
    "        if n > start_max:\n",
    "            start_max = n\n",
    "    for n in arr:\n",
    "        if n < start_min:\n",
    "            start_min = n\n",
    "    rangeValues = start_max - start_min\n",
    "    return rangeValues\n",
    "\n",
    "\n",
    "range_data = rangeFunc(arr)\n",
    "range_data"
   ]
  },
  {
   "cell_type": "code",
   "execution_count": 42,
   "metadata": {},
   "outputs": [
    {
     "data": {
      "text/plain": [
       "-9.0"
      ]
     },
     "execution_count": 42,
     "metadata": {},
     "output_type": "execute_result"
    }
   ],
   "source": [
    "final_ans = a - range_data\n",
    "final_ans"
   ]
  },
  {
   "cell_type": "code",
   "execution_count": 43,
   "metadata": {},
   "outputs": [],
   "source": [
    "#  Regex Expressions \n",
    "#  Processing Documents document paths -- > os\n",
    "#  Reading and writing of files (Always maintain abinary file standard standard)"
   ]
  },
  {
   "cell_type": "code",
   "execution_count": 44,
   "metadata": {},
   "outputs": [],
   "source": [
    "def studentscoreFunc(name_pupil):\n",
    "    get_all_arrays = []\n",
    "    index_pupil = []\n",
    "    arr_data = []\n",
    "\n",
    "    for n in data_sheet:\n",
    "        for key, values in n.items():\n",
    "            get_all_arrays.append(values)\n",
    "            if key == \"pupil_names\":\n",
    "                index_values = values.index(name_pupil)\n",
    "                index_pupil.append(index_values)\n",
    "\n",
    "    index_pupil = index_pupil[0]\n",
    "\n",
    "    for i in get_all_arrays:\n",
    "        arr_data.append(i[index_pupil])\n",
    "\n",
    "    students_scores = arr_data[:-1]\n",
    "    return students_scores"
   ]
  },
  {
   "cell_type": "code",
   "execution_count": 45,
   "metadata": {},
   "outputs": [
    {
     "name": "stdout",
     "output_type": "stream",
     "text": [
      "james = [80, 66]\n",
      "john = [55, 97]\n",
      "tobi = [67, 69]\n"
     ]
    }
   ],
   "source": [
    "for i in data_sheet:\n",
    "        for k, v in i.items():\n",
    "            if k == \"pupil_names\":\n",
    "                for names in v:\n",
    "                    score_data = studentscoreFunc(name_pupil=names)\n",
    "                    print(f\"{names} = {score_data}\")"
   ]
  },
  {
   "cell_type": "code",
   "execution_count": 46,
   "metadata": {},
   "outputs": [
    {
     "data": {
      "text/plain": [
       "['james = [80, 66]', 'john = [55, 97]', 'tobi = [67, 69]']"
      ]
     },
     "execution_count": 46,
     "metadata": {},
     "output_type": "execute_result"
    }
   ],
   "source": [
    "def all_studentscoresFunc(data_sheet, students_scores):\n",
    "    all_scores = []\n",
    "    for i in data_sheet:\n",
    "        for k, v in i.items():\n",
    "            if k == \"pupil_names\":\n",
    "                for names in v:\n",
    "                    score_data = studentscoreFunc(name_pupil=names)\n",
    "                    final_res = f\"{names} = {score_data}\"\n",
    "                    all_scores.append(final_res)\n",
    "    return all_scores\n",
    "                \n",
    "studentScores = all_studentscoresFunc(data_sheet, students_scores)\n",
    "studentScores"
   ]
  },
  {
   "cell_type": "code",
   "execution_count": 90,
   "metadata": {},
   "outputs": [
    {
     "name": "stdout",
     "output_type": "stream",
     "text": [
      "['kate', 'filler']\n",
      "['nnadi', 'bella']\n",
      "['ilie', 'scott']\n",
      "['james', 'doe']\n",
      "{'first_name': ['kate', 'nnadi', 'ilie', 'james'], 'surname': ['filler', 'bella', 'scott', 'doe']}\n"
     ]
    }
   ],
   "source": [
    "arr = [\"kate-filler\", \"nnadi-bella\", \"ilie-scott\", \"james-doe\"]\n",
    "\n",
    "#  name and surname inside a dictionary\n",
    "\n",
    "names_dict = {}\n",
    "surname = []\n",
    "first_name = []\n",
    "\n",
    "for i in arr:\n",
    "    daTa = i.split(\"-\")\n",
    "    \n",
    "    first_name.append(daTa[0])\n",
    "    surname.append(daTa[1])\n",
    "names_dict[\"first_name\"] = first_name\n",
    "names_dict[\"surname\"] = surname\n",
    "\n",
    "print(names_dict)"
   ]
  },
  {
   "cell_type": "code",
   "execution_count": 48,
   "metadata": {},
   "outputs": [
    {
     "data": {
      "text/plain": [
       "{'first_name': ['kate', 'nnadi', 'ilie', 'james'],\n",
       " 'surname': ['filler', 'bella', 'scott', 'doe']}"
      ]
     },
     "execution_count": 48,
     "metadata": {},
     "output_type": "execute_result"
    }
   ],
   "source": [
    "def structuredataFunc(arr):\n",
    "    names_dict = {}\n",
    "    surname = []\n",
    "    first_name = []\n",
    "\n",
    "    for i in arr:\n",
    "        daTa = i.split(\"-\")\n",
    "        first_name.append(daTa[0])\n",
    "        surname.append(daTa[1])\n",
    "\n",
    "    names_dict[\"first_name\"] = first_name\n",
    "    names_dict[\"surname\"] = surname\n",
    "\n",
    "    return names_dict\n",
    "\n",
    "dataValue = structuredataFunc(arr)\n",
    "dataValue"
   ]
  },
  {
   "cell_type": "code",
   "execution_count": 49,
   "metadata": {},
   "outputs": [],
   "source": [
    "#  ----- Assignment ---- /////// ------ "
   ]
  },
  {
   "cell_type": "code",
   "execution_count": 55,
   "metadata": {},
   "outputs": [],
   "source": [
    "# Adjust the function that was written and handle this data properly\n",
    "# - all first names should be assigned firstnames in the dictionary\n",
    "# - all last names should be assigned last names in the dictionary\n",
    "\n",
    "#arr = [\"kate-filler\", \"nnadi/bella\", \"ilie#scott\", \"james\\doe\"]"
   ]
  },
  {
   "cell_type": "code",
   "execution_count": 197,
   "metadata": {},
   "outputs": [
    {
     "data": {
      "text/plain": [
       "{'first_name': ['kate', 'nnadi', 'ilie', 'james'],\n",
       " 'surname': ['filler', 'bella', 'scott', 'doe']}"
      ]
     },
     "execution_count": 197,
     "metadata": {},
     "output_type": "execute_result"
    }
   ],
   "source": [
    "import re\n",
    "\n",
    "arr = [\"kate-filler\", \"nnadi/bella\", \"ilie#scott\", \"james\\\\doe\"]\n",
    "first_name=[]\n",
    "surname=[]\n",
    "names_dict={}\n",
    "pattern = r'[-/#\\\\]'\n",
    "def structuredataFunc(arr):\n",
    "        for n in arr:\n",
    "                arr1 = [re.split(pattern, n) for n in arr]\n",
    "                for i in range(0, len(arr1[:4])):\n",
    "                        first_name.append((arr1[i][0]))\n",
    "                        surname.append((arr1[i][1]))\n",
    "                        \n",
    "                        names_dict[\"first_name\"] = first_name\n",
    "                        names_dict[\"surname\"] = surname\n",
    "                return names_dict\n",
    "dataValue = structuredataFunc(arr)\n",
    "dataValue\n"
   ]
  },
  {
   "cell_type": "code",
   "execution_count": null,
   "metadata": {},
   "outputs": [],
   "source": []
  },
  {
   "cell_type": "code",
   "execution_count": 173,
   "metadata": {},
   "outputs": [
    {
     "ename": "ModuleNotFoundError",
     "evalue": "No module named 'pandas'",
     "output_type": "error",
     "traceback": [
      "\u001b[1;31m---------------------------------------------------------------------------\u001b[0m",
      "\u001b[1;31mModuleNotFoundError\u001b[0m                       Traceback (most recent call last)",
      "Cell \u001b[1;32mIn[173], line 1\u001b[0m\n\u001b[1;32m----> 1\u001b[0m \u001b[38;5;28;01mimport\u001b[39;00m \u001b[38;5;21;01mpandas\u001b[39;00m \u001b[38;5;28;01mas\u001b[39;00m \u001b[38;5;21;01mpd\u001b[39;00m\n\u001b[0;32m      3\u001b[0m df1 \u001b[38;5;241m=\u001b[39m pd\u001b[38;5;241m.\u001b[39mDataFrame(names_dict)\n\u001b[0;32m      4\u001b[0m df1\n",
      "\u001b[1;31mModuleNotFoundError\u001b[0m: No module named 'pandas'"
     ]
    }
   ],
   "source": [
    "import pandas as pd\n",
    "\n",
    "df1 = pd.DataFrame(names_dict)\n",
    "df1"
   ]
  },
  {
   "cell_type": "code",
   "execution_count": null,
   "metadata": {},
   "outputs": [],
   "source": []
  }
 ],
 "metadata": {
  "kernelspec": {
   "display_name": ".venv",
   "language": "python",
   "name": "python3"
  },
  "language_info": {
   "codemirror_mode": {
    "name": "ipython",
    "version": 3
   },
   "file_extension": ".py",
   "mimetype": "text/x-python",
   "name": "python",
   "nbconvert_exporter": "python",
   "pygments_lexer": "ipython3",
   "version": "3.12.2"
  }
 },
 "nbformat": 4,
 "nbformat_minor": 2
}
