{
 "cells": [
  {
   "cell_type": "code",
   "execution_count": 1,
   "metadata": {},
   "outputs": [],
   "source": [
    "names = {\"john\":\"data scientist\", \"lloyd\":\"farmer\", \"clinton\":\"Engineer\", \"pauline\":\"doctor\"}\n",
    "arr = [{\"john\":\"data scientist\", \"lloyd\":\"farmer\", \"clinton\":\"Engineer\", \"pauline\":\"doctor\"}]\n",
    "tup = ({\"john\":\"data scientist\", \"lloyd\":\"farmer\", \"clinton\":\"Engineer\", \"pauline\":\"doctor\"})\n",
    "dict_dict = {\"people\": {\"john\":\"data scientist\", \"lloyd\":\"farmer\", \"clinton\":\"Engineer\", \"pauline\":\"doctor\"}}"
   ]
  },
  {
   "cell_type": "code",
   "execution_count": 2,
   "metadata": {},
   "outputs": [
    {
     "name": "stdout",
     "output_type": "stream",
     "text": [
      "john, data scientist\n",
      "lloyd, farmer\n",
      "clinton, Engineer\n",
      "pauline, doctor\n"
     ]
    }
   ],
   "source": [
    "for key, values in names.items():\n",
    "    print(f\"{key}, {values}\")"
   ]
  },
  {
   "cell_type": "code",
   "execution_count": 3,
   "metadata": {},
   "outputs": [
    {
     "name": "stdout",
     "output_type": "stream",
     "text": [
      "john, data scientist\n",
      "lloyd, farmer\n",
      "clinton, Engineer\n",
      "pauline, doctor\n"
     ]
    }
   ],
   "source": [
    "# For dictionaries stored in arrays\n",
    "for i in arr:\n",
    "    for key, values in i.items():\n",
    "        print(f\"{key}, {values}\")"
   ]
  },
  {
   "cell_type": "code",
   "execution_count": 4,
   "metadata": {},
   "outputs": [
    {
     "name": "stdout",
     "output_type": "stream",
     "text": [
      "john data scientist\n",
      "lloyd farmer\n",
      "clinton Engineer\n",
      "pauline doctor\n"
     ]
    }
   ],
   "source": [
    "arr_data = []\n",
    "for key, values in dict_dict.items():\n",
    "    for i, j in values.items():\n",
    "        print(i, j)"
   ]
  },
  {
   "cell_type": "code",
   "execution_count": 5,
   "metadata": {},
   "outputs": [
    {
     "data": {
      "text/plain": [
       "[{'math_score': [80, 55, 67],\n",
       "  'english_score': [66, 97, 69],\n",
       "  'pupil_names': ['james', 'john', 'tobi']}]"
      ]
     },
     "execution_count": 5,
     "metadata": {},
     "output_type": "execute_result"
    }
   ],
   "source": [
    "data_sheet = [{\"math_score\":[80, 55, 67], \"english_score\":[66, 97, 69], \"pupil_names\":[\"james\", \"john\", \"tobi\"]}]\n",
    "data_sheet"
   ]
  },
  {
   "cell_type": "code",
   "execution_count": 6,
   "metadata": {},
   "outputs": [
    {
     "data": {
      "text/plain": [
       "' \\n1. write an algorithm that picks only the score of tobi or his class mates\\n2. get the mean score of the pupils for both subjects\\n'"
      ]
     },
     "execution_count": 6,
     "metadata": {},
     "output_type": "execute_result"
    }
   ],
   "source": [
    "\"\"\" \n",
    "1. write an algorithm that picks only the score of tobi or his class mates\n",
    "2. get the mean score of the pupils for both subjects\n",
    "\"\"\""
   ]
  },
  {
   "cell_type": "code",
   "execution_count": 7,
   "metadata": {},
   "outputs": [
    {
     "data": {
      "text/plain": [
       "list"
      ]
     },
     "execution_count": 7,
     "metadata": {},
     "output_type": "execute_result"
    }
   ],
   "source": [
    "type(data_sheet)"
   ]
  },
  {
   "cell_type": "code",
   "execution_count": 8,
   "metadata": {},
   "outputs": [
    {
     "name": "stdout",
     "output_type": "stream",
     "text": [
      "[1]\n",
      "1\n"
     ]
    }
   ],
   "source": [
    "get_all_arrays = []\n",
    "index_tobi = []\n",
    "\n",
    "for n in data_sheet:\n",
    "    for key, values in n.items():\n",
    "\n",
    "\n",
    "        \n",
    "        get_all_arrays.append(values)\n",
    "        if key == \"pupil_names\":\n",
    "            index_values = values.index(\"john\")\n",
    "            index_tobi.append(index_values)\n",
    "\n",
    "\n",
    "\n",
    "# print(get_all_arrays)\n",
    "print(index_tobi)\n",
    "index_tobi = index_tobi[-1]\n",
    "print(index_tobi)"
   ]
  },
  {
   "cell_type": "code",
   "execution_count": 9,
   "metadata": {},
   "outputs": [
    {
     "name": "stdout",
     "output_type": "stream",
     "text": [
      "[[80, 55, 67], [66, 97, 69], ['james', 'john', 'tobi']]\n"
     ]
    }
   ],
   "source": [
    "print(get_all_arrays)"
   ]
  },
  {
   "cell_type": "code",
   "execution_count": 10,
   "metadata": {},
   "outputs": [
    {
     "name": "stdout",
     "output_type": "stream",
     "text": [
      "55\n",
      "97\n",
      "john\n"
     ]
    }
   ],
   "source": [
    "for i in get_all_arrays:\n",
    "    print(i[index_tobi])"
   ]
  },
  {
   "cell_type": "code",
   "execution_count": 11,
   "metadata": {},
   "outputs": [],
   "source": [
    "# //////// ---- Putting Everything Together"
   ]
  },
  {
   "cell_type": "code",
   "execution_count": 12,
   "metadata": {},
   "outputs": [
    {
     "name": "stdout",
     "output_type": "stream",
     "text": [
      "[67, 69, 'tobi']\n",
      "[67, 69]\n"
     ]
    }
   ],
   "source": [
    "arr_data = []\n",
    "for i in get_all_arrays:\n",
    "    arr_data.append(i[2])\n",
    "\n",
    "print(arr_data)\n",
    "print(arr_data[:-1])"
   ]
  },
  {
   "cell_type": "code",
   "execution_count": 13,
   "metadata": {},
   "outputs": [],
   "source": [
    "# //////// ---- Putting Everything Together"
   ]
  },
  {
   "cell_type": "code",
   "execution_count": 14,
   "metadata": {},
   "outputs": [
    {
     "name": "stdout",
     "output_type": "stream",
     "text": [
      "[55, 97]\n"
     ]
    }
   ],
   "source": [
    "get_all_arrays = []\n",
    "index_pupil = []\n",
    "arr_data = []\n",
    "\n",
    "name_pupil = \"john\"\n",
    "\n",
    "for n in data_sheet:\n",
    "    for key, values in n.items():\n",
    "        get_all_arrays.append(values)\n",
    "        if key == \"pupil_names\":\n",
    "            index_values = values.index(name_pupil)\n",
    "            index_pupil.append(index_values)\n",
    "\n",
    "index_pupil = index_pupil[0]\n",
    "\n",
    "for i in get_all_arrays:\n",
    "    arr_data.append(i[index_pupil])\n",
    "\n",
    "print(arr_data[:-1])"
   ]
  },
  {
   "cell_type": "code",
   "execution_count": 15,
   "metadata": {},
   "outputs": [
    {
     "name": "stdout",
     "output_type": "stream",
     "text": [
      "[67, 69]\n"
     ]
    }
   ],
   "source": [
    "\n",
    "def holder_func(name_pupil):\n",
    "    get_all_arrays = []\n",
    "    index_pupil = []\n",
    "    arr_data = []\n",
    "    for n in data_sheet:\n",
    "        for key, values in n.items():\n",
    "            get_all_arrays.append(values)\n",
    "            if key == \"pupil_names\":\n",
    "                index_values = values.index(name_pupil)\n",
    "                index_pupil.append(index_values)\n",
    "\n",
    "    index_pupil = index_pupil[0]\n",
    "    \n",
    "    for i in get_all_arrays:\n",
    "        arr_data.append(i[index_pupil])\n",
    "\n",
    "    return arr_data[:-1]\n",
    "\n",
    "\n",
    "print(holder_func(name_pupil=\"tobi\"))"
   ]
  },
  {
   "cell_type": "code",
   "execution_count": 16,
   "metadata": {},
   "outputs": [
    {
     "name": "stdout",
     "output_type": "stream",
     "text": [
      "5\n"
     ]
    }
   ],
   "source": [
    "d = [5]\n",
    "\n",
    "print(d[-1])"
   ]
  },
  {
   "cell_type": "code",
   "execution_count": 17,
   "metadata": {},
   "outputs": [
    {
     "ename": "ModuleNotFoundError",
     "evalue": "No module named 'pandas'",
     "output_type": "error",
     "traceback": [
      "\u001b[1;31m---------------------------------------------------------------------------\u001b[0m",
      "\u001b[1;31mModuleNotFoundError\u001b[0m                       Traceback (most recent call last)",
      "Cell \u001b[1;32mIn[17], line 1\u001b[0m\n\u001b[1;32m----> 1\u001b[0m \u001b[38;5;28;01mimport\u001b[39;00m \u001b[38;5;21;01mpandas\u001b[39;00m \u001b[38;5;28;01mas\u001b[39;00m \u001b[38;5;21;01mpd\u001b[39;00m\n\u001b[0;32m      3\u001b[0m df \u001b[38;5;241m=\u001b[39m pd\u001b[38;5;241m.\u001b[39mDataFrame(data_sheet[\u001b[38;5;241m0\u001b[39m])\n\u001b[0;32m      4\u001b[0m df\n",
      "\u001b[1;31mModuleNotFoundError\u001b[0m: No module named 'pandas'"
     ]
    }
   ],
   "source": [
    "import pandas as pd\n",
    "\n",
    "df = pd.DataFrame(data_sheet[0])\n",
    "df"
   ]
  },
  {
   "cell_type": "code",
   "execution_count": null,
   "metadata": {},
   "outputs": [
    {
     "data": {
      "text/html": [
       "<div>\n",
       "<style scoped>\n",
       "    .dataframe tbody tr th:only-of-type {\n",
       "        vertical-align: middle;\n",
       "    }\n",
       "\n",
       "    .dataframe tbody tr th {\n",
       "        vertical-align: top;\n",
       "    }\n",
       "\n",
       "    .dataframe thead th {\n",
       "        text-align: right;\n",
       "    }\n",
       "</style>\n",
       "<table border=\"1\" class=\"dataframe\">\n",
       "  <thead>\n",
       "    <tr style=\"text-align: right;\">\n",
       "      <th></th>\n",
       "      <th>math_score</th>\n",
       "      <th>english_score</th>\n",
       "      <th>pupil_names</th>\n",
       "    </tr>\n",
       "  </thead>\n",
       "  <tbody>\n",
       "    <tr>\n",
       "      <th>2</th>\n",
       "      <td>67</td>\n",
       "      <td>69</td>\n",
       "      <td>tobi</td>\n",
       "    </tr>\n",
       "  </tbody>\n",
       "</table>\n",
       "</div>"
      ],
      "text/plain": [
       "   math_score  english_score pupil_names\n",
       "2          67             69        tobi"
      ]
     },
     "execution_count": 39,
     "metadata": {},
     "output_type": "execute_result"
    }
   ],
   "source": [
    "df_tobi = df[df[\"pupil_names\"] == \"tobi\"]\n",
    "df_tobi"
   ]
  },
  {
   "cell_type": "code",
   "execution_count": null,
   "metadata": {},
   "outputs": [
    {
     "data": {
      "text/plain": [
       "array([67, 69], dtype=object)"
      ]
     },
     "execution_count": 37,
     "metadata": {},
     "output_type": "execute_result"
    }
   ],
   "source": [
    "df_tobi = df[df[\"pupil_names\"] == \"tobi\"]\n",
    "df_tobi.iloc[0].values[:-1]"
   ]
  },
  {
   "cell_type": "code",
   "execution_count": null,
   "metadata": {},
   "outputs": [
    {
     "name": "stdout",
     "output_type": "stream",
     "text": [
      "67.0\n",
      "55.00000000000001\n",
      "11.999999999999993\n"
     ]
    }
   ],
   "source": [
    "#  Percentage Difference \n",
    "\n",
    "def holder_func(name_pupil):\n",
    "    get_all_arrays = []\n",
    "    index_pupil = []\n",
    "    arr_data = []\n",
    "    for n in data_sheet:\n",
    "        for key, values in n.items():\n",
    "            get_all_arrays.append(values)\n",
    "            if key == \"pupil_names\":\n",
    "                index_values = values.index(name_pupil)\n",
    "                index_pupil.append(index_values)\n",
    "\n",
    "    index_pupil = index_pupil[0]\n",
    "    \n",
    "    for i in get_all_arrays:\n",
    "        arr_data.append(i[index_pupil])\n",
    "\n",
    "    return arr_data[:-1]\n",
    "\n",
    "\n",
    "tobi_arr = holder_func(name_pupil=\"tobi\")\n",
    "john_arr = holder_func(name_pupil=\"john\")\n",
    "\n",
    "# print(tobi_arr)\n",
    "# print(john_arr)\n",
    "\n",
    "\n",
    "\n",
    "def get_percentage_maths(arr):\n",
    "    percentage_data = arr[0]/100 * (100)\n",
    "    return percentage_data\n",
    "\n",
    "# def get_percentage_eng(arr):\n",
    "#     percentage_data = arr[1]/100 * (100)\n",
    "#     return percentage_data\n",
    "\n",
    "a = get_percentage_maths(arr=tobi_arr)\n",
    "b = get_percentage_maths(arr=john_arr)\n",
    "\n",
    "\n",
    "print(a)\n",
    "print(b)\n",
    "\n",
    "print(abs(a - b))"
   ]
  }
 ],
 "metadata": {
  "kernelspec": {
   "display_name": ".venv",
   "language": "python",
   "name": "python3"
  },
  "language_info": {
   "codemirror_mode": {
    "name": "ipython",
    "version": 3
   },
   "file_extension": ".py",
   "mimetype": "text/x-python",
   "name": "python",
   "nbconvert_exporter": "python",
   "pygments_lexer": "ipython3",
   "version": "3.12.2"
  }
 },
 "nbformat": 4,
 "nbformat_minor": 2
}
