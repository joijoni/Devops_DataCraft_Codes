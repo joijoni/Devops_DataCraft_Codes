{
 "cells": [
  {
   "cell_type": "code",
   "execution_count": 1,
   "metadata": {},
   "outputs": [],
   "source": [
    "#------------Assignment-1-----------------------\n",
    "# Adjust the function that was written and handle this data properly\n",
    "# - all first names should be assigned firstnames in the dictionary\n",
    "# - all last names should be assigned last names in the dictionary\n",
    "\n",
    "#arr = [\"kate-filler\", \"nnadi/bella\", \"ilie#scott\", \"james\\doe\"]\n",
    "\n"
   ]
  },
  {
   "cell_type": "code",
   "execution_count": 4,
   "metadata": {},
   "outputs": [
    {
     "data": {
      "text/plain": [
       "{'first_name': ['kate', 'nnadi', 'ilie', 'james'],\n",
       " 'surname': ['filler', 'bella', 'scott', 'doe']}"
      ]
     },
     "execution_count": 4,
     "metadata": {},
     "output_type": "execute_result"
    }
   ],
   "source": [
    "import re\n",
    "\n",
    "arr = [\"kate-filler\", \"nnadi/bella\", \"ilie#scott\", \"james\\\\doe\"]\n",
    "first_name=[]\n",
    "surname=[]\n",
    "names_dict={}\n",
    "pattern = r'[-/#\\\\]'\n",
    "def structuredataFunc(arr):\n",
    "        for n in arr:\n",
    "                arr1 = [re.split(pattern, n) for n in arr]\n",
    "                for i in range(0, len(arr1[:4])):\n",
    "                        first_name.append((arr1[i][0]))\n",
    "                        surname.append((arr1[i][1]))\n",
    "                        \n",
    "                        names_dict[\"first_name\"] = first_name\n",
    "                        names_dict[\"surname\"] = surname\n",
    "                return names_dict\n",
    "dataValue = structuredataFunc(arr)\n",
    "dataValue\n"
   ]
  }
 ],
 "metadata": {
  "kernelspec": {
   "display_name": "venv",
   "language": "python",
   "name": "python3"
  },
  "language_info": {
   "codemirror_mode": {
    "name": "ipython",
    "version": 3
   },
   "file_extension": ".py",
   "mimetype": "text/x-python",
   "name": "python",
   "nbconvert_exporter": "python",
   "pygments_lexer": "ipython3",
   "version": "3.12.2"
  }
 },
 "nbformat": 4,
 "nbformat_minor": 2
}
